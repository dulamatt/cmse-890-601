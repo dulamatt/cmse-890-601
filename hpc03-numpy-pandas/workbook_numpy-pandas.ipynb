{
 "cells": [
  {
   "cell_type": "markdown",
   "metadata": {},
   "source": [
    "Matt Dula\n",
    "\n",
    "Collaborators: Cory Hilton, Anton Schlegel, Derek Bowman"
   ]
  },
  {
   "cell_type": "markdown",
   "metadata": {},
   "source": [
    "# Improving Performance with NumPy and Pandas\n",
    "\n",
    "NumPy, Pandas, and other packages in the scientific Python ecosystem provide a huge variety of tools that make common research tasks simpler. Generally, its best to use these tools as they have been specially optimized; however, there can be reasons to prefer code that takes slightly longer to run. Sometimes performant code is hard to read. Other times, developers may have had other goals in mind, and don't prioritize performance. **Always, always test your code changes to ensure you're actually seeing an improvement** (and that your results are correct).\n",
    "\n",
    "The code used in this workbook is modified from [High Performance Python by Gorelick & Ozsvald](https://github.com/mynameisfiber/high_performance_python_2e/tree/master/06_matrix)."
   ]
  },
  {
   "cell_type": "markdown",
   "metadata": {},
   "source": [
    "---\n",
    "## Refactoring Lists to NumPy Arrays\n",
    "\n"
   ]
  },
  {
   "cell_type": "markdown",
   "metadata": {},
   "source": [
    "Last week we learned that NumPy arrays can take advantage of vectorization to efficiently perform mathematical operations on lost of (homogenous) data. The goal of this section is to provide experience converting an existing list-based code to use NumPy. It also introduces NumPy array slicing - another way NumPy leverages vectorization.\n",
    "\n",
    "The code below simulates a simple 1D diffusion problem. Entries in a list function as cells in a grid,\n",
    "where each cell's value represents the concentration of a fluid at a point in space. Over time, the concentration in each cell will change as the fluid redistributes. **You will be incrementally refactoring this list-based code to use NumPy.**\n",
    "\n",
    "A small region near the center of the grid is given a higher concentration than its surroundings:\n",
    "\n",
    "![Graph of the initial conditions for our sample 1D diffusion problem.](diffusion_ICs.png \"Diffusion Initial Conditions\")\n",
    "\n",
    "After 500 iterations with the default parameters, the concentration smooths out:\n",
    "\n",
    "![Graph of the diffusion problem after 500 iterations.](diffusion_updated.png \"Diffusion After 500 Iterations\")\n",
    "\n",
    "### Algorithm Description\n",
    "\n",
    "Each entry in the list `grid` corresponds to some coordinate along the $x$ axis, such that the $i$ th cell of `grid` corresponds to position $x_{i}$.\n",
    "The concentration C at position $x_i$ --- or $C(x_i)$ ---  is then stored as `grid[i]`. \n",
    "\n",
    "Each time we update the grid --- taking a timestep `dt` --- we iterate over all the cells in the grid. To update the value of each cell,\n",
    "we apply a \"stencil\" which combines information from neighboring cells in a weighted manner.\n",
    "\n",
    "For cell $i$, the stencil uses data from cells $i-1$ and $i+1$ to approximate the second derivative of the concentration $C$:\n",
    "\n",
    "$\\frac{dC}{dt} = D \\cdot \\frac{d^2}{dx^2} C(x) \\approx D \\cdot \\left( C(x_{i-1}) + C(x_{i+1}) - 2 C(x) \\right)$\n",
    "\n",
    "where $D$ is the diffusion coefficient.\n",
    "\n",
    "Below is an example grid. The stencil is shown in blue. The red cells are special cells called \"ghost zones.\" These cells exist so that the stencil can still be applied to the edges of the grid. Information in ghost zones is usually ignored when analyzing the results of simulations like this 1D diffusion problem, but are **very** important to the correct function of the diffusion algorithm.\n",
    "\n",
    "![Diagram the stencil-based grid update and ghost zones](stencil.png)\n",
    "\n"
   ]
  },
  {
   "cell_type": "code",
   "execution_count": 6,
   "metadata": {},
   "outputs": [],
   "source": [
    "import numpy as np"
   ]
  },
  {
   "cell_type": "code",
   "execution_count": 3,
   "metadata": {},
   "outputs": [],
   "source": [
    "def run_simulation(grid_size = 600, \n",
    "                   dt = 0.1,\n",
    "                   num_iterations = 500,\n",
    "                   diffusion_coeff = 1.0):\n",
    "    \"\"\"\n",
    "    Simulate the diffusion of a fluid in 1D using lists.\n",
    "    \n",
    "    grid_size: the number of cells in our grid.\n",
    "    dt: time change for each iteration\n",
    "    num_iterations: how many time steps we allow the fluid to diffuse.\n",
    "    diffusion_coeff: diffusivity of the fluid; higher is more diffusive.\n",
    "\n",
    "    Returns the state of the grid after num_iterations\n",
    "    \"\"\"\n",
    "\n",
    "    # Construct 1D grid\n",
    "    # Add an additional cell at each end to handle grid boundaries\n",
    "    # grid[0] and grid[grid_size+1] are these boundary cells\n",
    "    grid = [0.01] * (grid_size + 2)\n",
    "\n",
    "    # Set the initial conditions\n",
    "    # A small region (~10% of total length)\n",
    "    # near the middle has high concentration\n",
    "    start_index = int(grid_size * 0.4)\n",
    "    end_index = int(grid_size * 0.5)\n",
    "    for i in range(start_index+1, end_index+1):\n",
    "        grid[i] = 0.02\n",
    "\n",
    "    # Evolve the grid\n",
    "    for t in range(num_iterations):\n",
    "\n",
    "        # create a new grid to store updates\n",
    "        new_grid = [0.0] * (grid_size + 2)\n",
    "\n",
    "        # update main grid\n",
    "        for i in range(1, grid_size+1):\n",
    "            stencil = grid[i+1] + grid[i-1] - 2*grid[i]\n",
    "            new_grid[i] = grid[i] + diffusion_coeff * stencil * dt\n",
    "\n",
    "        # update boundary cells\n",
    "        new_grid[0] = new_grid[1]\n",
    "        new_grid[grid_size+1] = new_grid[grid_size]\n",
    "\n",
    "        # swap new_grid and grid\n",
    "        grid, new_grid = new_grid, grid\n",
    "\n",
    "    return grid\n"
   ]
  },
  {
   "cell_type": "markdown",
   "metadata": {},
   "source": [
    "---\n",
    "### Exercises"
   ]
  },
  {
   "cell_type": "markdown",
   "metadata": {},
   "source": [
    "1. Time `run_simulation` to establish a baseline. You can use the default arguments."
   ]
  },
  {
   "cell_type": "code",
   "execution_count": 4,
   "metadata": {},
   "outputs": [
    {
     "name": "stdout",
     "output_type": "stream",
     "text": [
      "56 ms ± 107 μs per loop (mean ± std. dev. of 7 runs, 10 loops each)\n"
     ]
    }
   ],
   "source": [
    "%timeit run_simulation()"
   ]
  },
  {
   "cell_type": "markdown",
   "metadata": {},
   "source": [
    "Timing result: 49.7ms +/- 625us per loo (mean, st.dev. of 7 runs, 10 loops each)"
   ]
  },
  {
   "cell_type": "markdown",
   "metadata": {},
   "source": [
    "2. Use `lprun` to profile the existing list-based version of `run_simulation`. Even though all of our code is in a single function, you will still need to specify the `-f` argument. The following questions will require the profiling output to answer."
   ]
  },
  {
   "cell_type": "code",
   "execution_count": 5,
   "metadata": {},
   "outputs": [
    {
     "name": "stdout",
     "output_type": "stream",
     "text": [
      "The line_profiler extension is already loaded. To reload it, use:\n",
      "  %reload_ext line_profiler\n"
     ]
    },
    {
     "data": {
      "text/plain": [
       "Timer unit: 1e-09 s\n",
       "\n",
       "Total time: 0.303292 s\n",
       "File: /tmp/local/43781384/ipykernel_3748365/1180214463.py\n",
       "Function: run_simulation at line 1\n",
       "\n",
       "Line #      Hits         Time  Per Hit   % Time  Line Contents\n",
       "==============================================================\n",
       "     1                                           def run_simulation(grid_size = 600, \n",
       "     2                                                              dt = 0.1,\n",
       "     3                                                              num_iterations = 500,\n",
       "     4                                                              diffusion_coeff = 1.0):\n",
       "     5                                               \"\"\"\n",
       "     6                                               Simulate the diffusion of a fluid in 1D using lists.\n",
       "     7                                               \n",
       "     8                                               grid_size: the number of cells in our grid.\n",
       "     9                                               dt: time change for each iteration\n",
       "    10                                               num_iterations: how many time steps we allow the fluid to diffuse.\n",
       "    11                                               diffusion_coeff: diffusivity of the fluid; higher is more diffusive.\n",
       "    12                                           \n",
       "    13                                               Returns the state of the grid after num_iterations\n",
       "    14                                               \"\"\"\n",
       "    15                                           \n",
       "    16                                               # Construct 1D grid\n",
       "    17                                               # Add an additional cell at each end to handle grid boundaries\n",
       "    18                                               # grid[0] and grid[grid_size+1] are these boundary cells\n",
       "    19         1       5161.0   5161.0      0.0      grid = [0.01] * (grid_size + 2)\n",
       "    20                                           \n",
       "    21                                               # Set the initial conditions\n",
       "    22                                               # A small region (~10% of total length)\n",
       "    23                                               # near the middle has high concentration\n",
       "    24         1       1630.0   1630.0      0.0      start_index = int(grid_size * 0.4)\n",
       "    25         1        616.0    616.0      0.0      end_index = int(grid_size * 0.5)\n",
       "    26        61      19295.0    316.3      0.0      for i in range(start_index+1, end_index+1):\n",
       "    27        60      17699.0    295.0      0.0          grid[i] = 0.02\n",
       "    28                                           \n",
       "    29                                               # Evolve the grid\n",
       "    30       501     144478.0    288.4      0.0      for t in range(num_iterations):\n",
       "    31                                           \n",
       "    32                                                   # create a new grid to store updates\n",
       "    33       500    3294131.0   6588.3      1.1          new_grid = [0.0] * (grid_size + 2)\n",
       "    34                                           \n",
       "    35                                                   # update main grid\n",
       "    36    300500   88123976.0    293.3     29.1          for i in range(1, grid_size+1):\n",
       "    37    300000  128268159.0    427.6     42.3              stencil = grid[i+1] + grid[i-1] - 2*grid[i]\n",
       "    38    300000   82992867.0    276.6     27.4              new_grid[i] = grid[i] + diffusion_coeff * stencil * dt\n",
       "    39                                           \n",
       "    40                                                   # update boundary cells\n",
       "    41       500     140836.0    281.7      0.0          new_grid[0] = new_grid[1]\n",
       "    42       500     158665.0    317.3      0.1          new_grid[grid_size+1] = new_grid[grid_size]\n",
       "    43                                           \n",
       "    44                                                   # swap new_grid and grid\n",
       "    45       500     124813.0    249.6      0.0          grid, new_grid = new_grid, grid\n",
       "    46                                           \n",
       "    47                                               return grid"
      ]
     },
     "metadata": {},
     "output_type": "display_data"
    }
   ],
   "source": [
    "%load_ext line_profiler\n",
    "%lprun -f run_simulation run_simulation()"
   ]
  },
  {
   "cell_type": "markdown",
   "metadata": {},
   "source": [
    "3. Which lines take the largest fraction of the overall runtime? What purpose do these lines serve?"
   ]
  },
  {
   "cell_type": "markdown",
   "metadata": {},
   "source": [
    "Lines 36-38 take almost the entire fractional time of the overall runtime. These lines are to iteratively update the grid using a list-based method."
   ]
  },
  {
   "cell_type": "markdown",
   "metadata": {},
   "source": [
    "4. Which lines take the most amount of time *per hit*? Is there a common theme between these lines? Think about memory --- allocation, access, data movement, etc."
   ]
  },
  {
   "cell_type": "markdown",
   "metadata": {},
   "source": [
    "Lines 19 and 33 take the most amount of time per hit. This is because they are creating lists, which requires allocation of lots of memory, moving many addresses into the cache, and setting the values at those addresses to the desired values."
   ]
  },
  {
   "cell_type": "markdown",
   "metadata": {},
   "source": [
    "5. Defining a new function, convert `grid` and `new_grid` to NumPy arrays (recall the [array creation](https://numpy.org/doc/1.25/reference/routines.array-creation.html#numerical-ranges) routines). Check the results against the figures shown above and time your refactor. Is this version of the code slower or faster? Why do you think that is?"
   ]
  },
  {
   "cell_type": "code",
   "execution_count": 6,
   "metadata": {},
   "outputs": [],
   "source": [
    "def run_simulation2(grid_size = 600, \n",
    "                   dt = 0.1,\n",
    "                   num_iterations = 500,\n",
    "                   diffusion_coeff = 1.0):\n",
    "    \"\"\"\n",
    "    Simulate the diffusion of a fluid in 1D using lists.\n",
    "    \n",
    "    grid_size: the number of cells in our grid.\n",
    "    dt: time change for each iteration\n",
    "    num_iterations: how many time steps we allow the fluid to diffuse.\n",
    "    diffusion_coeff: diffusivity of the fluid; higher is more diffusive.\n",
    "\n",
    "    Returns the state of the grid after num_iterations\n",
    "    \"\"\"\n",
    "\n",
    "    # Construct 1D grid\n",
    "    # Add an additional cell at each end to handle grid boundaries\n",
    "    # grid[0] and grid[grid_size+1] are these boundary cells\n",
    "    grid = np.zeros(grid_size + 2) + 0.01\n",
    "\n",
    "    # Set the initial conditions\n",
    "    # A small region (~10% of total length)\n",
    "    # near the middle has high concentration\n",
    "    start_index = int(grid_size * 0.4)\n",
    "    end_index = int(grid_size * 0.5)\n",
    "    for i in range(start_index+1, end_index+1):\n",
    "        grid[i] = 0.02\n",
    "\n",
    "    # Evolve the grid\n",
    "    for t in range(num_iterations):\n",
    "\n",
    "        # create a new grid to store updates\n",
    "        new_grid = np.zeros(grid_size + 2)\n",
    "\n",
    "        # update main grid\n",
    "        for i in range(1, grid_size+1):\n",
    "            stencil = grid[i+1] + grid[i-1] - 2*grid[i]\n",
    "            new_grid[i] = grid[i] + diffusion_coeff * stencil * dt\n",
    "\n",
    "        # update boundary cells\n",
    "        new_grid[0] = new_grid[1]\n",
    "        new_grid[grid_size+1] = new_grid[grid_size]\n",
    "\n",
    "        # swap new_grid and grid\n",
    "        grid, new_grid = new_grid, grid\n",
    "\n",
    "    return grid"
   ]
  },
  {
   "cell_type": "code",
   "execution_count": 7,
   "metadata": {},
   "outputs": [
    {
     "data": {
      "text/plain": [
       "[<matplotlib.lines.Line2D at 0x153363b79d90>]"
      ]
     },
     "execution_count": 7,
     "metadata": {},
     "output_type": "execute_result"
    },
    {
     "data": {
      "image/png": "[encoded data removed]",
      "text/plain": [
       "<Figure size 640x480 with 1 Axes>"
      ]
     },
     "metadata": {},
     "output_type": "display_data"
    }
   ],
   "source": [
    "# Plotting\n",
    "import matplotlib.pyplot as plt\n",
    "\n",
    "grid = run_simulation2()\n",
    "\n",
    "fig,ax = plt.subplots()\n",
    "ax.plot(grid)"
   ]
  },
  {
   "cell_type": "code",
   "execution_count": 8,
   "metadata": {},
   "outputs": [
    {
     "name": "stdout",
     "output_type": "stream",
     "text": [
      "313 ms ± 943 μs per loop (mean ± std. dev. of 7 runs, 1 loop each)\n"
     ]
    }
   ],
   "source": [
    "%timeit run_simulation2()"
   ]
  },
  {
   "cell_type": "markdown",
   "metadata": {},
   "source": [
    "Timing result: 336ms +/- 5ms per loop (mean, st.dev. of 7 runs, 1 loop each)"
   ]
  },
  {
   "cell_type": "markdown",
   "metadata": {},
   "source": [
    "6. Refactor the diffusion code a second time. This time, eliminate the `for` loops by using [array slicing](https://numpy.org/doc/stable/user/absolute_beginners.html#indexing-and-slicing). This will enable us to use vectorization.\n",
    "\n",
    "Hint: the loop\n",
    "```python\n",
    "for i in range(1, grid_size+1):\n",
    "    grid[i]\n",
    "```\n",
    "will become\n",
    "```python\n",
    "grid[1:-1]\n",
    "```\n",
    "Drawing a diagram may help you, especially when handling the ghost zones!"
   ]
  },
  {
   "cell_type": "code",
   "execution_count": 9,
   "metadata": {},
   "outputs": [],
   "source": [
    "def run_simulation3(grid_size = 600, \n",
    "                   dt = 0.1,\n",
    "                   num_iterations = 500,\n",
    "                   diffusion_coeff = 1.0):\n",
    "    \"\"\"\n",
    "    Simulate the diffusion of a fluid in 1D using lists.\n",
    "    \n",
    "    grid_size: the number of cells in our grid.\n",
    "    dt: time change for each iteration\n",
    "    num_iterations: how many time steps we allow the fluid to diffuse.\n",
    "    diffusion_coeff: diffusivity of the fluid; higher is more diffusive.\n",
    "\n",
    "    Returns the state of the grid after num_iterations\n",
    "    \"\"\"\n",
    "\n",
    "    # Construct 1D grid\n",
    "    # Add an additional cell at each end to handle grid boundaries\n",
    "    # grid[0] and grid[grid_size+1] are these boundary cells\n",
    "    grid = np.zeros(grid_size + 2) + 0.01\n",
    "\n",
    "    # Set the initial conditions\n",
    "    # A small region (~10% of total length)\n",
    "    # near the middle has high concentration\n",
    "    start_index = int(grid_size * 0.4)\n",
    "    end_index = int(grid_size * 0.5)\n",
    "    grid[start_index+1:end_index-1] = 0.02\n",
    "    \n",
    "    # Evolve the grid\n",
    "    for t in range(num_iterations):\n",
    "\n",
    "        # create a new grid to store updates\n",
    "        new_grid = np.zeros(grid_size + 2)\n",
    "\n",
    "        # update main grid\n",
    "        # for i in range(1, grid_size+1):\n",
    "        #     stencil = grid[i+1] + grid[i-1] - 2*grid[i]\n",
    "        #     new_grid[i] = grid[i] + diffusion_coeff * stencil * dt\n",
    "        stencil = grid[2:] + grid[:-2] - 2*grid[1:-1]\n",
    "        new_grid[1:-1] = grid[1:-1] + diffusion_coeff * stencil * dt\n",
    "\n",
    "        # update boundary cells\n",
    "        new_grid[0] = new_grid[1]\n",
    "        new_grid[grid_size+1] = new_grid[grid_size]\n",
    "\n",
    "        # swap new_grid and grid\n",
    "        grid, new_grid = new_grid, grid\n",
    "        # if t == 10:\n",
    "        #     print(grid)\n",
    "\n",
    "    return grid"
   ]
  },
  {
   "cell_type": "markdown",
   "metadata": {},
   "source": [
    "7. Time the slice-based code for 500 iterations. How does the speed of this change compare to both our previous versions? Is this what you expect?"
   ]
  },
  {
   "cell_type": "code",
   "execution_count": 10,
   "metadata": {},
   "outputs": [
    {
     "data": {
      "text/plain": [
       "[<matplotlib.lines.Line2D at 0x1533639a7e90>]"
      ]
     },
     "execution_count": 10,
     "metadata": {},
     "output_type": "execute_result"
    },
    {
     "data": {
      "image/png": "[encoded data removed]",
      "text/plain": [
       "<Figure size 640x480 with 1 Axes>"
      ]
     },
     "metadata": {},
     "output_type": "display_data"
    }
   ],
   "source": [
    "grid = run_simulation3()\n",
    "\n",
    "fig,ax = plt.subplots()\n",
    "ax.plot(grid)"
   ]
  },
  {
   "cell_type": "code",
   "execution_count": 33,
   "metadata": {},
   "outputs": [
    {
     "name": "stdout",
     "output_type": "stream",
     "text": [
      "10.6 ms ± 53.4 μs per loop (mean ± std. dev. of 7 runs, 100 loops each)\n"
     ]
    }
   ],
   "source": [
    "%timeit run_simulation3()"
   ]
  },
  {
   "cell_type": "markdown",
   "metadata": {},
   "source": [
    "Timing results: 10.6ms +/- 53.4us per loop (mean, st.dev. of 7 runs, 100 loops each). This is about a 5x speedup over the original function implementation; this kind of significant speedup is expected due to vectorization."
   ]
  },
  {
   "cell_type": "markdown",
   "metadata": {},
   "source": [
    "8. There is one last easy refactor we can do (if you are familiar with this style of algorithm, you may have already spotted it). Profile the vectorized 1D diffusion code and consider the lines with multiple hits. We have been able to reduce the time spent on some of these lines thanks to vectorization. Another strategy is simply to reduce the number of times a line is executed! Which line can benefit from this kind of optimization without breaking the algorithm?"
   ]
  },
  {
   "cell_type": "code",
   "execution_count": 34,
   "metadata": {},
   "outputs": [
    {
     "data": {
      "text/plain": [
       "Timer unit: 1e-09 s\n",
       "\n",
       "Total time: 0.0179236 s\n",
       "File: /tmp/local/43725233/ipykernel_2798291/3005284909.py\n",
       "Function: run_simulation3 at line 1\n",
       "\n",
       "Line #      Hits         Time  Per Hit   % Time  Line Contents\n",
       "==============================================================\n",
       "     1                                           def run_simulation3(grid_size = 600, \n",
       "     2                                                              dt = 0.1,\n",
       "     3                                                              num_iterations = 500,\n",
       "     4                                                              diffusion_coeff = 1.0):\n",
       "     5                                               \"\"\"\n",
       "     6                                               Simulate the diffusion of a fluid in 1D using lists.\n",
       "     7                                               \n",
       "     8                                               grid_size: the number of cells in our grid.\n",
       "     9                                               dt: time change for each iteration\n",
       "    10                                               num_iterations: how many time steps we allow the fluid to diffuse.\n",
       "    11                                               diffusion_coeff: diffusivity of the fluid; higher is more diffusive.\n",
       "    12                                           \n",
       "    13                                               Returns the state of the grid after num_iterations\n",
       "    14                                               \"\"\"\n",
       "    15                                           \n",
       "    16                                               # Construct 1D grid\n",
       "    17                                               # Add an additional cell at each end to handle grid boundaries\n",
       "    18                                               # grid[0] and grid[grid_size+1] are these boundary cells\n",
       "    19         1      36822.0  36822.0      0.2      grid = np.zeros(grid_size + 2) + 0.01\n",
       "    20                                           \n",
       "    21                                               # Set the initial conditions\n",
       "    22                                               # A small region (~10% of total length)\n",
       "    23                                               # near the middle has high concentration\n",
       "    24         1       1628.0   1628.0      0.0      start_index = int(grid_size * 0.4)\n",
       "    25         1        593.0    593.0      0.0      end_index = int(grid_size * 0.5)\n",
       "    26         1       7858.0   7858.0      0.0      grid[start_index+1:end_index-1] = 0.02\n",
       "    27                                               \n",
       "    28                                               # Evolve the grid\n",
       "    29       501     215597.0    430.3      1.2      for t in range(num_iterations):\n",
       "    30                                           \n",
       "    31                                                   # create a new grid to store updates\n",
       "    32       500    3321870.0   6643.7     18.5          new_grid = np.zeros(grid_size + 2)\n",
       "    33                                           \n",
       "    34                                                   # update main grid\n",
       "    35                                                   # for i in range(1, grid_size+1):\n",
       "    36                                                   #     stencil = grid[i+1] + grid[i-1] - 2*grid[i]\n",
       "    37                                                   #     new_grid[i] = grid[i] + diffusion_coeff * stencil * dt\n",
       "    38       500    7252075.0  14504.1     40.5          stencil = grid[2:] + grid[:-2] - 2*grid[1:-1]\n",
       "    39       500    5931797.0  11863.6     33.1          new_grid[1:-1] = grid[1:-1] + diffusion_coeff * stencil * dt\n",
       "    40                                           \n",
       "    41                                                   # update boundary cells\n",
       "    42       500     616324.0   1232.6      3.4          new_grid[0] = new_grid[1]\n",
       "    43       500     385363.0    770.7      2.2          new_grid[grid_size+1] = new_grid[grid_size]\n",
       "    44                                           \n",
       "    45                                                   # swap new_grid and grid\n",
       "    46       500     153699.0    307.4      0.9          grid, new_grid = new_grid, grid\n",
       "    47                                                   # if t == 10:\n",
       "    48                                                   #     print(grid)\n",
       "    49                                           \n",
       "    50                                               return grid"
      ]
     },
     "metadata": {},
     "output_type": "display_data"
    }
   ],
   "source": [
    "%lprun -f run_simulation3 run_simulation3()"
   ]
  },
  {
   "cell_type": "markdown",
   "metadata": {},
   "source": [
    "The `new_grid` variable should actually not be needed, because `new_grid` never references itself after being modified unless it represents exactly what would've been in `grid`. Therefore, we can refactor the code to only directly reference `grid`."
   ]
  },
  {
   "cell_type": "markdown",
   "metadata": {},
   "source": [
    "9. Refactor the code a final time to implement the optimization identified above. Compared to the *original* version, what is the final factor of speed-up achieved?"
   ]
  },
  {
   "cell_type": "code",
   "execution_count": 11,
   "metadata": {},
   "outputs": [],
   "source": [
    "def run_simulation4(grid_size = 600, \n",
    "                   dt = 0.1,\n",
    "                   num_iterations = 500,\n",
    "                   diffusion_coeff = 1.0):\n",
    "    \"\"\"\n",
    "    Simulate the diffusion of a fluid in 1D using lists.\n",
    "    \n",
    "    grid_size: the number of cells in our grid.\n",
    "    dt: time change for each iteration\n",
    "    num_iterations: how many time steps we allow the fluid to diffuse.\n",
    "    diffusion_coeff: diffusivity of the fluid; higher is more diffusive.\n",
    "\n",
    "    Returns the state of the grid after num_iterations\n",
    "    \"\"\"\n",
    "\n",
    "    # Construct 1D grid\n",
    "    # Add an additional cell at each end to handle grid boundaries\n",
    "    # grid[0] and grid[grid_size+1] are these boundary cells\n",
    "    grid = np.zeros(grid_size + 2) + 0.01\n",
    "\n",
    "    # Set the initial conditions\n",
    "    # A small region (~10% of total length)\n",
    "    # near the middle has high concentration\n",
    "    start_index = int(grid_size * 0.4)\n",
    "    end_index = int(grid_size * 0.5)\n",
    "    grid[start_index+1:end_index-1] = 0.02\n",
    "    \n",
    "    # Evolve the grid\n",
    "    for t in range(num_iterations):\n",
    "\n",
    "        # update main grid\n",
    "        stencil = grid[2:] + grid[:-2] - 2*grid[1:-1]\n",
    "        grid[1:-1] = grid[1:-1] + diffusion_coeff * stencil * dt\n",
    "\n",
    "        # update boundary cells\n",
    "        grid[0] = grid[1]\n",
    "        grid[grid_size+1] = grid[grid_size]\n",
    "\n",
    "        # swap new_grid and grid\n",
    "        # grid, new_grid = new_grid, grid\n",
    "        # if t == 10:\n",
    "        #     print(grid)\n",
    "\n",
    "    return grid"
   ]
  },
  {
   "cell_type": "code",
   "execution_count": 12,
   "metadata": {},
   "outputs": [
    {
     "data": {
      "text/plain": [
       "[<matplotlib.lines.Line2D at 0x15335b85d340>]"
      ]
     },
     "execution_count": 12,
     "metadata": {},
     "output_type": "execute_result"
    },
    {
     "data": {
      "image/png": "[encoded data removed]",
      "text/plain": [
       "<Figure size 640x480 with 1 Axes>"
      ]
     },
     "metadata": {},
     "output_type": "display_data"
    }
   ],
   "source": [
    "grid4 = run_simulation4()\n",
    "\n",
    "fig,ax = plt.subplots()\n",
    "ax.plot(grid4)"
   ]
  },
  {
   "cell_type": "code",
   "execution_count": 39,
   "metadata": {},
   "outputs": [
    {
     "name": "stdout",
     "output_type": "stream",
     "text": [
      "9.61 ms ± 103 μs per loop (mean ± std. dev. of 7 runs, 100 loops each)\n"
     ]
    }
   ],
   "source": [
    "%timeit run_simulation4()"
   ]
  },
  {
   "cell_type": "markdown",
   "metadata": {},
   "source": [
    "Timing result: 9.61ms +/- 103us per loop (mean, st.dev. of 7 runs, 100 loops each). This represents a speedup of about 5.2x compared to the original version of the diffusion simulation."
   ]
  },
  {
   "cell_type": "markdown",
   "metadata": {},
   "source": [
    "---\n",
    "## Operating on Pandas Rows\n",
    "\n",
    "Pandas is a library that provides data structures and tools for manipulating complex datasets. The most commonly used data structure is the DataFrame. A common analogy for DataFrames is a spreadsheet.\n",
    "\n",
    "The dataset `customer_hours.csv` contains a large amount (100,000 rows) of fake data representing customer cell phone call time over a two week period. The first column is the customer's unqiue ID number and each subsequent column is the number of hours the customer has spent on a call that day. We're interested in the general trend of each customer's cell usage: does it change over the two weeks or stay largely the same?\n",
    "\n",
    "To do this, we can use ordinary least squares (OLS) to fit a line $y=mx+b$ to each customer's fake cell phone data. Row-by-row operations like this are commonly applied to Pandas DataFrames. Since we're only interested in how cell phone usage changes over time, we only need the slope $m$ from the OLS fit.\n",
    "\n",
    "There are two parts to this task where we can explore performance: first, we need a function for performing OLS. Second, we need to apply this function to each row in the DataFrame.\n",
    "\n",
    "### Ordinary Least Squares\n",
    "\n",
    "OLS is an incredibly common algorithm, so much so that NumPy, SciPy, and scikit-learn all have their own implementations. How do they compare against each other? Using the following code as setup, you'll write and test a \"wrapper\" for NumPy's [`lstsq`](https://numpy.org/doc/stable/reference/generated/numpy.linalg.lstsq.html), SciPy's [`linregress`](https://docs.scipy.org/doc/scipy/reference/generated/scipy.stats.linregress.html), and scikit-learn's [`LinearRegression` class](https://scikit-learn.org/stable/modules/generated/sklearn.linear_model.LinearRegression.html)."
   ]
  },
  {
   "cell_type": "code",
   "execution_count": 2,
   "metadata": {},
   "outputs": [],
   "source": [
    "import pandas as pd\n",
    "from numpy.linalg import lstsq \n",
    "from scipy.stats import linregress\n",
    "from sklearn.linear_model import LinearRegression\n",
    "\n",
    "df = pd.read_csv(\"customer_data.csv\", index_col=\"CustomerID\")\n",
    "test_row = df.iloc[0]"
   ]
  },
  {
   "cell_type": "markdown",
   "metadata": {},
   "source": [
    "For reference, **the resulting slope should be around -0.0117.**"
   ]
  },
  {
   "cell_type": "markdown",
   "metadata": {},
   "source": [
    "---\n",
    "#### Exercises\n",
    "\n",
    "1. Write wrapper functions for each of the routines named above. Each wrapper should take a row from a Pandas DataFrame as input and return the slope of the fitted line. Reference the documentation linked above as needed. \n",
    "\n",
    "Notes:\n",
    "* For simplicity, you may use integers to represent the days (the independent variable) rather than the calendar date in the column label; e.g.,  `x = np.arange(row.shape[0])`. \n",
    "* Even if you don't fully understand what NumPy's `lstsq` is doing, the example matches well to our problem.\n",
    "* scikit-learn is intended to be used for machine learning. The documentation references values `n_features` and `n_targets`; for our purposes, these are each 1. Additionally, the `y` value for the `fit` method is the unmodified data from `row`."
   ]
  },
  {
   "cell_type": "code",
   "execution_count": 8,
   "metadata": {},
   "outputs": [],
   "source": [
    "def npls(data):\n",
    "    A = np.stack((np.arange(data.shape[0]),np.ones(data.shape[0])),axis=1)\n",
    "    param,_ = lstsq(A,data,rcond=None)[0]\n",
    "    return param\n",
    "\n",
    "def scls(data):\n",
    "    param = linregress(np.arange(data.shape[0]),data)[0]\n",
    "    return param\n",
    "\n",
    "def skls(data):\n",
    "    A = np.stack((np.arange(data.shape[0]),np.ones(data.shape[0])),axis=1)\n",
    "    param = LinearRegression().fit(A,data).coef_[0]\n",
    "    return param"
   ]
  },
  {
   "cell_type": "markdown",
   "metadata": {},
   "source": [
    "2. Time each function using `test_row`. Which method is fastest? Which is slowest?"
   ]
  },
  {
   "cell_type": "code",
   "execution_count": 22,
   "metadata": {},
   "outputs": [
    {
     "name": "stdout",
     "output_type": "stream",
     "text": [
      "124 μs ± 702 ns per loop (mean ± std. dev. of 7 runs, 10,000 loops each)\n"
     ]
    }
   ],
   "source": [
    "%timeit npls(test_row)"
   ]
  },
  {
   "cell_type": "code",
   "execution_count": 83,
   "metadata": {},
   "outputs": [
    {
     "name": "stdout",
     "output_type": "stream",
     "text": [
      "1.02 ms ± 6.06 μs per loop (mean ± std. dev. of 7 runs, 1,000 loops each)\n"
     ]
    }
   ],
   "source": [
    "%timeit scls(test_row)"
   ]
  },
  {
   "cell_type": "code",
   "execution_count": 84,
   "metadata": {},
   "outputs": [
    {
     "name": "stdout",
     "output_type": "stream",
     "text": [
      "745 μs ± 5.51 μs per loop (mean ± std. dev. of 7 runs, 1,000 loops each)\n"
     ]
    }
   ],
   "source": [
    "%timeit skls(test_row)"
   ]
  },
  {
   "cell_type": "markdown",
   "metadata": {},
   "source": [
    "The NumPy method is fastest at a mean of of 115us, and the SciPy method is the slowest, with a mean runtime of 1.02ms"
   ]
  },
  {
   "cell_type": "markdown",
   "metadata": {},
   "source": [
    "3. SciPy *also* offers a `lstsq` function in it's linear algebra module: `scipy.linalg.lstsq`. In fact, SciPy offers a number of ways to tackle our linear fitting problem. SciPy's `lstsq` behaves very similarly to NumPy's `lstsq`. Create a new wrapper for SciPy's `lstsq` based on your NumPy function."
   ]
  },
  {
   "cell_type": "code",
   "execution_count": 4,
   "metadata": {},
   "outputs": [],
   "source": [
    "from scipy.linalg import lstsq as sc_lstsq"
   ]
  },
  {
   "cell_type": "code",
   "execution_count": 9,
   "metadata": {},
   "outputs": [],
   "source": [
    "def scls2(data):\n",
    "    M = np.stack((np.arange(data.shape[0]),np.ones(data.shape[0])),axis=1)\n",
    "    param,_ = sc_lstsq(M,data)[0]\n",
    "    return param"
   ]
  },
  {
   "cell_type": "markdown",
   "metadata": {},
   "source": [
    "4. Time the SciPy `lstsq` wrapper. How does it compare to the NumPy version? Using Google, can you find an explanation of the difference?"
   ]
  },
  {
   "cell_type": "code",
   "execution_count": 21,
   "metadata": {},
   "outputs": [
    {
     "name": "stdout",
     "output_type": "stream",
     "text": [
      "161 μs ± 479 ns per loop (mean ± std. dev. of 7 runs, 10,000 loops each)\n"
     ]
    }
   ],
   "source": [
    "%timeit scls2(test_row)"
   ]
  },
  {
   "cell_type": "markdown",
   "metadata": {},
   "source": [
    "The SciPy `lstsq` wrapper is slightly slower than the NumPy version, though still significantly faster than the other alternatives. This is because NumPy uses an updated version of a routine that is more time-performant, but requires more memory workspace."
   ]
  },
  {
   "cell_type": "markdown",
   "metadata": {},
   "source": [
    "5. In your opinion, which was the *easiest* OLS version to implement? How does the performance of this version compare to the others? Do you think this approach is a good compromise between performance and ease of use?"
   ]
  },
  {
   "cell_type": "markdown",
   "metadata": {},
   "source": [
    "I think the easiest to implement was SciPy's `linregress` mostly because it assumed the linearity of the model instead of requiring the input \"observation\" matrix. However, this had the worst performance. I think for small datasets, this could be a worthwhile tradeoff, but when dealing with large amounts of data, it is definitely worth sacrificing ease of implementation to get more performant code."
   ]
  },
  {
   "cell_type": "markdown",
   "metadata": {},
   "source": [
    "6. Let's find out why scikit-learn had the slowest OLS implementation. Profile `LinearRegression`'s fitting function using `lprun`. The `LinearRegression.fit` function is itself wrapped (that's what the `@` statement in the source code above the function definition indicates) so your call to `lprun` will need to look like `%lprun -f LinearRegression.fit.__wrapped__ <scikit-learn OLS wrapper>` (if you don't include the `__wrapped__` portion, `line_profiler` will likely suggest it near the top of your output). Which lines dominate the runtime by percentage?"
   ]
  },
  {
   "cell_type": "code",
   "execution_count": 24,
   "metadata": {},
   "outputs": [
    {
     "data": {
      "text/plain": [
       "Timer unit: 1e-09 s\n",
       "\n",
       "Total time: 0.00242196 s\n",
       "File: /mnt/ufs18/home-051/dulamatt/miniforge3/envs/hpc-python/lib/python3.12/site-packages/sklearn/linear_model/_base.py\n",
       "Function: fit at line 581\n",
       "\n",
       "Line #      Hits         Time  Per Hit   % Time  Line Contents\n",
       "==============================================================\n",
       "   581                                               @_fit_context(prefer_skip_nested_validation=True)\n",
       "   582                                               def fit(self, X, y, sample_weight=None):\n",
       "   583                                                   \"\"\"\n",
       "   584                                                   Fit linear model.\n",
       "   585                                           \n",
       "   586                                                   Parameters\n",
       "   587                                                   ----------\n",
       "   588                                                   X : {array-like, sparse matrix} of shape (n_samples, n_features)\n",
       "   589                                                       Training data.\n",
       "   590                                           \n",
       "   591                                                   y : array-like of shape (n_samples,) or (n_samples, n_targets)\n",
       "   592                                                       Target values. Will be cast to X's dtype if necessary.\n",
       "   593                                           \n",
       "   594                                                   sample_weight : array-like of shape (n_samples,), default=None\n",
       "   595                                                       Individual weights for each sample.\n",
       "   596                                           \n",
       "   597                                                       .. versionadded:: 0.17\n",
       "   598                                                          parameter *sample_weight* support to LinearRegression.\n",
       "   599                                           \n",
       "   600                                                   Returns\n",
       "   601                                                   -------\n",
       "   602                                                   self : object\n",
       "   603                                                       Fitted Estimator.\n",
       "   604                                                   \"\"\"\n",
       "   605         1       1722.0   1722.0      0.1          n_jobs_ = self.n_jobs\n",
       "   606                                           \n",
       "   607         1        947.0    947.0      0.0          accept_sparse = False if self.positive else [\"csr\", \"csc\", \"coo\"]\n",
       "   608                                           \n",
       "   609         2    1107171.0 553585.5     45.7          X, y = self._validate_data(\n",
       "   610         1        268.0    268.0      0.0              X,\n",
       "   611         1        199.0    199.0      0.0              y,\n",
       "   612         1        300.0    300.0      0.0              accept_sparse=accept_sparse,\n",
       "   613         1        381.0    381.0      0.0              y_numeric=True,\n",
       "   614         1        201.0    201.0      0.0              multi_output=True,\n",
       "   615         1        202.0    202.0      0.0              force_writeable=True,\n",
       "   616                                                   )\n",
       "   617                                           \n",
       "   618         1        430.0    430.0      0.0          has_sw = sample_weight is not None\n",
       "   619         1        314.0    314.0      0.0          if has_sw:\n",
       "   620                                                       sample_weight = _check_sample_weight(\n",
       "   621                                                           sample_weight, X, dtype=X.dtype, only_non_negative=True\n",
       "   622                                                       )\n",
       "   623                                           \n",
       "   624                                                   # Note that neither _rescale_data nor the rest of the fit method of\n",
       "   625                                                   # LinearRegression can benefit from in-place operations when X is a\n",
       "   626                                                   # sparse matrix. Therefore, let's not copy X when it is sparse.\n",
       "   627         1       2658.0   2658.0      0.1          copy_X_in_preprocess_data = self.copy_X and not sp.issparse(X)\n",
       "   628                                           \n",
       "   629         2    1031526.0 515763.0     42.6          X, y, X_offset, y_offset, X_scale = _preprocess_data(\n",
       "   630         1        279.0    279.0      0.0              X,\n",
       "   631         1        475.0    475.0      0.0              y,\n",
       "   632         1        407.0    407.0      0.0              fit_intercept=self.fit_intercept,\n",
       "   633         1        280.0    280.0      0.0              copy=copy_X_in_preprocess_data,\n",
       "   634         1        251.0    251.0      0.0              sample_weight=sample_weight,\n",
       "   635                                                   )\n",
       "   636                                           \n",
       "   637         1        638.0    638.0      0.0          if has_sw:\n",
       "   638                                                       # Sample weight can be implemented via a simple rescaling. Note\n",
       "   639                                                       # that we safely do inplace rescaling when _preprocess_data has\n",
       "   640                                                       # already made a copy if requested.\n",
       "   641                                                       X, y, sample_weight_sqrt = _rescale_data(\n",
       "   642                                                           X, y, sample_weight, inplace=copy_X_in_preprocess_data\n",
       "   643                                                       )\n",
       "   644                                           \n",
       "   645         1        847.0    847.0      0.0          if self.positive:\n",
       "   646                                                       if y.ndim < 2:\n",
       "   647                                                           self.coef_ = optimize.nnls(X, y)[0]\n",
       "   648                                                       else:\n",
       "   649                                                           # scipy.optimize.nnls cannot handle y with shape (M, K)\n",
       "   650                                                           outs = Parallel(n_jobs=n_jobs_)(\n",
       "   651                                                               delayed(optimize.nnls)(X, y[:, j]) for j in range(y.shape[1])\n",
       "   652                                                           )\n",
       "   653                                                           self.coef_ = np.vstack([out[0] for out in outs])\n",
       "   654         1       2077.0   2077.0      0.1          elif sp.issparse(X):\n",
       "   655                                                       X_offset_scale = X_offset / X_scale\n",
       "   656                                           \n",
       "   657                                                       if has_sw:\n",
       "   658                                           \n",
       "   659                                                           def matvec(b):\n",
       "   660                                                               return X.dot(b) - sample_weight_sqrt * b.dot(X_offset_scale)\n",
       "   661                                           \n",
       "   662                                                           def rmatvec(b):\n",
       "   663                                                               return X.T.dot(b) - X_offset_scale * b.dot(sample_weight_sqrt)\n",
       "   664                                           \n",
       "   665                                                       else:\n",
       "   666                                           \n",
       "   667                                                           def matvec(b):\n",
       "   668                                                               return X.dot(b) - b.dot(X_offset_scale)\n",
       "   669                                           \n",
       "   670                                                           def rmatvec(b):\n",
       "   671                                                               return X.T.dot(b) - X_offset_scale * b.sum()\n",
       "   672                                           \n",
       "   673                                                       X_centered = sparse.linalg.LinearOperator(\n",
       "   674                                                           shape=X.shape, matvec=matvec, rmatvec=rmatvec\n",
       "   675                                                       )\n",
       "   676                                           \n",
       "   677                                                       if y.ndim < 2:\n",
       "   678                                                           self.coef_ = lsqr(X_centered, y)[0]\n",
       "   679                                                       else:\n",
       "   680                                                           # sparse_lstsq cannot handle y with shape (M, K)\n",
       "   681                                                           outs = Parallel(n_jobs=n_jobs_)(\n",
       "   682                                                               delayed(lsqr)(X_centered, y[:, j].ravel())\n",
       "   683                                                               for j in range(y.shape[1])\n",
       "   684                                                           )\n",
       "   685                                                           self.coef_ = np.vstack([out[0] for out in outs])\n",
       "   686                                                   else:\n",
       "   687         1     214174.0 214174.0      8.8              self.coef_, _, self.rank_, self.singular_ = linalg.lstsq(X, y)\n",
       "   688         1       2734.0   2734.0      0.1              self.coef_ = self.coef_.T\n",
       "   689                                           \n",
       "   690         1       1224.0   1224.0      0.1          if y.ndim == 1:\n",
       "   691         1       9805.0   9805.0      0.4              self.coef_ = np.ravel(self.coef_)\n",
       "   692         1      42447.0  42447.0      1.8          self._set_intercept(X_offset, y_offset, X_scale)\n",
       "   693                                                   return self"
      ]
     },
     "metadata": {},
     "output_type": "display_data"
    }
   ],
   "source": [
    "%lprun -f LinearRegression().fit.__wrapped__ skls(test_row)"
   ]
  },
  {
   "cell_type": "markdown",
   "metadata": {},
   "source": [
    "Lines 609 and 629 dominate the runtime, which are methods to validate and pre-process the data"
   ]
  },
  {
   "cell_type": "markdown",
   "metadata": {},
   "source": [
    "7.  Looking at the page for the [`LinearRegression` documentation](https://scikit-learn.org/stable/modules/generated/sklearn.linear_model.LinearRegression.html#sklearn.linear_model.LinearRegression), you'll see a link called \"source\" near the top of the page. Clicking this link will take you to the line in the source code where `LinearRegression` is implemented! You can then click on other functions to see where they are implemented using the righthand sidebar. Use this to help you determine the purpose of the functions you identified above."
   ]
  },
  {
   "cell_type": "markdown",
   "metadata": {},
   "source": [
    "The functions above seem to be designed to ensure that the function can handle a wider variety of input types by checking the inputs and adjusting accordingly."
   ]
  },
  {
   "cell_type": "markdown",
   "metadata": {},
   "source": [
    "8. Having done some investigating, why do you think scikit-learn has the slowest OLS algorithm? Even though it makes their code slow, why might the scikit-learn developers have chosen to write their function this way? What benefit does it provide users of scikit-learn?"
   ]
  },
  {
   "cell_type": "markdown",
   "metadata": {},
   "source": [
    "I think that the benefit of this approach to writing the code is that it inherently checks the data to make sure that it fits whatever assumptions they are desiring to make about it, and instead of spitting out error messages if the assumptions are violated, it processes the data appropriately. This ultimately makes the implementation more robust, though slower."
   ]
  },
  {
   "cell_type": "markdown",
   "metadata": {},
   "source": [
    "### Applying Functions to Rows\n",
    "\n",
    "We've tested several functions for performing OLS on a row, now it's time to apply it to all rows in `customer_data.csv`.\n",
    "We'll compare a \"purely Pythonic\" approach with the tools provided by Pandas.\n",
    "\n",
    "For the following exercises, use the NumPy `lstsq` wrapper you wrote above.\n",
    "\n",
    "---\n",
    "#### Exercises\n",
    "\n",
    "1. The most natively Pythonic approach is to use a `for` loop to iterate over the rows' numerical indices; i.e., to iterate through `range(df.shape[0])`. The rows can then be accessed by `df.iloc[i]` where `i` is the numerical index. Write a loop that applies your NumPy OLS wrapper to each row in the DataFrame we loaded earlier and collects each row's results in *either* a list or a NumPy array (you decide!). Then, time how long this loop takes to execute."
   ]
  },
  {
   "cell_type": "code",
   "execution_count": 29,
   "metadata": {},
   "outputs": [
    {
     "name": "stdout",
     "output_type": "stream",
     "text": [
      "17.5 s ± 102 ms per loop (mean ± std. dev. of 7 runs, 1 loop each)\n"
     ]
    }
   ],
   "source": [
    "%%timeit\n",
    "results = np.empty(df.shape[0])\n",
    "for i in range(df.shape[0]):\n",
    "    results[i] = npls(df.iloc[i])"
   ]
  },
  {
   "cell_type": "markdown",
   "metadata": {},
   "source": [
    "Timing result: 17.5 seconds"
   ]
  },
  {
   "cell_type": "markdown",
   "metadata": {},
   "source": [
    "2. Pandas offers the [`df.apply()`](https://pandas.pydata.org/docs/reference/api/pandas.DataFrame.apply.html) method which can apply a given function along either every column (`index=0`) or along every row (`index=1`). This function eliminates the need for a `for` loop, and automatically collects the results of our function. Implement `df.apply` and time how long it takes to execute."
   ]
  },
  {
   "cell_type": "code",
   "execution_count": 31,
   "metadata": {},
   "outputs": [
    {
     "name": "stdout",
     "output_type": "stream",
     "text": [
      "13.6 s ± 13.6 ms per loop (mean ± std. dev. of 7 runs, 1 loop each)\n"
     ]
    }
   ],
   "source": [
    "%%timeit\n",
    "results = df.apply(npls,axis=1)"
   ]
  },
  {
   "cell_type": "markdown",
   "metadata": {},
   "source": [
    "Timing result: 13.6 seconds"
   ]
  },
  {
   "cell_type": "markdown",
   "metadata": {},
   "source": [
    "3. By default, `df.apply()` creates a separate Pandas Series object for each row. This is useful if we want to use Pandas' features in the function we are applying, like indexing by column name; yet, our OLS wrappers don't use any Pandas-specific features. We can access the raw underlying NumPy array with the `raw=True` argument. Add this argument to `df.apply()` and time the result."
   ]
  },
  {
   "cell_type": "code",
   "execution_count": 32,
   "metadata": {},
   "outputs": [
    {
     "name": "stdout",
     "output_type": "stream",
     "text": [
      "8.23 s ± 250 ms per loop (mean ± std. dev. of 7 runs, 1 loop each)\n"
     ]
    }
   ],
   "source": [
    "%%timeit\n",
    "results = df.apply(npls,axis=1,raw=True)"
   ]
  },
  {
   "cell_type": "markdown",
   "metadata": {},
   "source": [
    "Timing result: 8.2 seconds"
   ]
  },
  {
   "cell_type": "markdown",
   "metadata": {},
   "source": [
    "4. Does the `raw=True` argument in `df.apply()` lead to speed up for other kinds of wrappers? That is, do other OLS implementations benefit form working with the raw NumPy array? Pick one or more of your other wrappers and time them with and without `raw=True`."
   ]
  },
  {
   "cell_type": "code",
   "execution_count": 12,
   "metadata": {},
   "outputs": [
    {
     "name": "stdout",
     "output_type": "stream",
     "text": [
      "15.3 s ± 38.4 ms per loop (mean ± std. dev. of 7 runs, 1 loop each)\n"
     ]
    }
   ],
   "source": [
    "%%timeit\n",
    "results = df.apply(scls2,axis=1,raw=False)"
   ]
  },
  {
   "cell_type": "code",
   "execution_count": 13,
   "metadata": {},
   "outputs": [
    {
     "name": "stdout",
     "output_type": "stream",
     "text": [
      "11.3 s ± 24.8 ms per loop (mean ± std. dev. of 7 runs, 1 loop each)\n"
     ]
    }
   ],
   "source": [
    "%%timeit\n",
    "results = df.apply(scls2,axis=1,raw=True)"
   ]
  },
  {
   "cell_type": "markdown",
   "metadata": {},
   "source": [
    "From the `scipy.linalg.lstsq` wrapper: other implementations do seem to benefit from working with the raw NumPy array, though it would likely be dependent on the exact implementation. The SciPy `lstsq` examined here is built off of many NumPy functions."
   ]
  },
  {
   "cell_type": "markdown",
   "metadata": {},
   "source": [
    "## Wrap-Up Reflection\n",
    "\n",
    "The material we've covered in the last two weeks follows a particular theme: general-purpose, broadly-applicable data structures and functions versus programming tools built for comparatively narrowly-focused, specific goals. Give an example of what you consider to be a general tools vs a specialized one; there is no firm definition! In your opinion, what are the advantages of using more general tools and what are the advantages of using specialized tools?"
   ]
  },
  {
   "cell_type": "markdown",
   "metadata": {},
   "source": [
    "Generalized tools in my mind are those such as lists (inlcuding operations such as list comprehension) and dataframes. These are \"general\" because they can be used in many situations, holding a variety of data types, and are easily adaptable if you wanted to define a function or program to work with many different kinds of data. However, general tools tend to be less efficient, so I would say that the benefit of specialized tools, such as NumPy arrays and vectorized operations, is a significant gain in efficiency, but at the cost of variety. The phrase \"jack of all trades, master of none\" encapsulates this idea; lists can be used decently well to perform all manner of operations, but for numeric problems, NumPy will almost certainly provide better implementation options."
   ]
  },
  {
   "cell_type": "markdown",
   "metadata": {},
   "source": [
    "## For Next Class\n",
    "\n",
    "Next week we'll start working with multiple CPU cores. A common way to do this is to use *threads* - multiple streams of program execution that share memory. It's this shared memory aspect that makes threads an attractive way to run a program on multiple CPUs; however, Python's design means threads aren't as helpful as they are in other languages. This design feature is called the Global Interpreter Lock (GIL), and the following pre-class resources are intended to make you more familiar with this parallel programming roadblock.\n",
    "\n",
    "* What is an interpreter anyway? Read this overview of [compiled vs interpreted languages](https://www.freecodecamp.org/news/compiled-versus-interpreted-languages/). The article points out that Python can be run in compiled mode (if you've ever seen a `.pyc` file, that's compiled Python code) but this is usually reserved for imported modules.\n",
    "* Watch this video [introducing the GIL](https://www.youtube.com/watch?v=XVcRQ6T9RHo).\n",
    "* Read this article explaining [why the GIL is necessary](https://realpython.com/python-gil/).\n",
    "* **Optional:** a recent Python Enhancement Proposal (PEP) lays out a road map for removing the GIL! If you're interested, you can read more [here](https://www.infoworld.com/article/3704248/python-moves-to-remove-the-gil-and-boost-concurrency.html). This proposal is slated to be included with Python 3.13, which is currently in the \"pre-release\" stage."
   ]
  }
 ],
 "metadata": {
  "kernelspec": {
   "display_name": "Python 3 (ipykernel)",
   "language": "python",
   "name": "python3"
  },
  "language_info": {
   "codemirror_mode": {
    "name": "ipython",
    "version": 3
   },
   "file_extension": ".py",
   "mimetype": "text/x-python",
   "name": "python",
   "nbconvert_exporter": "python",
   "pygments_lexer": "ipython3",
   "version": "3.12.5"
  }
 },
 "nbformat": 4,
 "nbformat_minor": 4
}
