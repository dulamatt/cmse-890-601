{
 "cells": [
  {
   "cell_type": "markdown",
   "id": "5224b905",
   "metadata": {},
   "source": [
    "Matt Dula\n",
    "\n",
    "*Collaborators: Cory Hilton, Anton Schlegel*"
   ]
  },
  {
   "cell_type": "markdown",
   "id": "5c182784-1e25-4a18-8ed3-4ddb0bfb8cf9",
   "metadata": {},
   "source": [
    "# Timing, Testing, and Profiling"
   ]
  },
  {
   "cell_type": "markdown",
   "id": "d85b3cf2-da8b-4fcf-9740-85465bbfd097",
   "metadata": {},
   "source": [
    "Before we make changes to any code, we should establish a baseline with **timing measurements** and **tests**. A baseline timing measurement lets us compare any changes to assess improvement (or degradations!) while tests ensure that our code remains accurate. Improving code performance doesn't help us if we introduce bugs!\n",
    "Best practice would be to implement a [unit test](https://www.techtarget.com/searchsoftwarequality/definition/unit-testing) for every unique feature of a program, but any testing is better than none.\n",
    "\n",
    "After establishing a baseline, we should employ **profiling** to uncover the parts of our program that would benefit most from optmization. We probably already have an idea as to what parts of our code are the slowest. Profiling lets us test our hypotheses. For instance, if we have a function that is executed only once and a function that is executed a thousand times, we might assume it's best to optimize the function executed a thousand times. But profiling might reveal that the function executed only a single time dominates our \"wall time\" (the real-world time that passes as measured by a clock on the wall)."
   ]
  },
  {
   "cell_type": "markdown",
   "id": "0057c4c9-6b83-4e8f-96a5-5306db001b72",
   "metadata": {},
   "source": [
    "---\n",
    "## Timing Code Execution"
   ]
  },
  {
   "cell_type": "markdown",
   "id": "84a3f7dd-8bb1-41c6-9875-261a8a3089c7",
   "metadata": {},
   "source": [
    "We'll cover two ways of timing blocks of code. Each is slightly different and has its own pros and cons. You're free to choose which method you prefer for your work in this class, and can switch between methods as you prefer. You are also welcome to research alternative methods.\n",
    "\n",
    "The methods we will cover are:\n",
    "* the `timeit` magic command\n",
    "* the `time` module"
   ]
  },
  {
   "cell_type": "markdown",
   "id": "97a3626d-8304-403a-86e2-9c0b8887aca3",
   "metadata": {},
   "source": [
    "### Timeit magic"
   ]
  },
  {
   "cell_type": "markdown",
   "id": "e56a5a96-e675-4ae5-b5c4-0542ba9a872f",
   "metadata": {},
   "source": [
    "Jupyter notebooks allow for special, non-Python commands that act on a given line or cell. These commands are called \"magic.\"\n",
    "\n",
    "One magic command is `timeit`, which provides a quick way for measuring the performance of some code.\n",
    "\n",
    "The `timeit` magic command can either be used on a single line with `%timeit` or on a whole cell with `%%timeit`.\n",
    "\n",
    "Execute the code below to see the output."
   ]
  },
  {
   "cell_type": "code",
   "execution_count": 2,
   "id": "6dcccd51-b348-4364-a0c7-45c853dba586",
   "metadata": {},
   "outputs": [
    {
     "name": "stdout",
     "output_type": "stream",
     "text": [
      "3.54 μs ± 59.7 ns per loop (mean ± std. dev. of 7 runs, 100,000 loops each)\n"
     ]
    }
   ],
   "source": [
    "import numpy as np\n",
    "\n",
    "%timeit np.ones(10) # time just array creation"
   ]
  },
  {
   "cell_type": "code",
   "execution_count": 35,
   "id": "a12a9cca-c2cf-473f-b7fc-c8b99e430ea3",
   "metadata": {},
   "outputs": [
    {
     "name": "stdout",
     "output_type": "stream",
     "text": [
      "3.93 μs ± 14 ns per loop (mean ± std. dev. of 7 runs, 100,000 loops each)\n"
     ]
    }
   ],
   "source": [
    "%%timeit # time whole cell; list creation and append loop\n",
    "lst = []\n",
    "for i in range(100):\n",
    "    lst.append(i) "
   ]
  },
  {
   "cell_type": "markdown",
   "id": "26d99504-1b34-443f-9737-a09a2a092166",
   "metadata": {
    "tags": []
   },
   "source": [
    "Both versions of the `timeit` magic command report the average runtime and its standard deviation.\n",
    "\n",
    "The output also references **loops** and **runs**. The `timeit` command will execute our code multiple times (the loops) during one measurement to increase accuracy. It will then repeat this timing measurement over multiple runs in order to measure the mean and standard deviation.\n",
    "\n",
    "An example of two runs with four loops each is shown in the diagram below. \n",
    "\n",
    "![Diagram explaining loops and runs as used by timeit](loop-run-diagram.png)\n",
    "\n",
    "One full execution of a hypothetical program is represented by the orange blocks. The program is looped over and executed four times per run. The execution time measured by each run $r_1$ and $r_2$ would then be $(t_1-t_0)/4$. These runs can then be used to report an average runtime and a standard deviation. For example, the average runtime of the program represented by the orange block is $(r_1 + r_2) / 2$\n",
    "\n",
    "Using repeated runs for measurement are important because the CPU will not be executing our code 100% of the time. It will instead switch between operating system tasks and other programs, such as the web browser you are running this notebook in. You will never be able to prevent this \"context switching\" but it can cause variation in timing measurements. Using multiple runs lets us statistically characterize the performance of our program.\n",
    "\n",
    "On the other hand, using multiple loops per run let's us better measure the run time of a program, particularly if it is very short. Timing measurements don't have infinite precision and there is a minimum time difference that can be measured."
   ]
  },
  {
   "cell_type": "markdown",
   "id": "a595aff9-50e5-4d5c-8e57-c71615171557",
   "metadata": {},
   "source": [
    "---\n",
    "#### Exercises"
   ]
  },
  {
   "cell_type": "markdown",
   "id": "762a8017-bdd9-4b52-bf99-3e6b09b075a8",
   "metadata": {},
   "source": [
    "1. Add the `timeit` magic command to the following code. **Don't** time how long it takes to import the `time` module. We're using `time.sleep` to make the computer pause for 1 second and simulate a longer-running piece of code."
   ]
  },
  {
   "cell_type": "code",
   "execution_count": 1,
   "id": "7b3442ef-138f-446b-875a-9671920d92cf",
   "metadata": {},
   "outputs": [
    {
     "name": "stdout",
     "output_type": "stream",
     "text": [
      "1 s ± 4.47 μs per loop (mean ± std. dev. of 7 runs, 1 loop each)\n"
     ]
    }
   ],
   "source": [
    "import time\n",
    "\n",
    "%timeit time.sleep(1)"
   ]
  },
  {
   "cell_type": "markdown",
   "id": "10b5de5c-6f7a-43af-9aa5-c62369bcabfb",
   "metadata": {},
   "source": [
    "2. How does the number of loops and runs compare to the `timeit` examples above? Why is the number of loops different?"
   ]
  },
  {
   "cell_type": "markdown",
   "id": "af4b389f-ed19-4dc9-8358-b8ac4ad66bf7",
   "metadata": {},
   "source": [
    "The number of runs is the same, presumably to still calculate a standard deviation. However, because the command takes longer to run, the mean does not require as many loops to calculate an accurate mean."
   ]
  },
  {
   "cell_type": "markdown",
   "id": "b268b2ba-4195-4490-b6ce-8fab38aa6b35",
   "metadata": {},
   "source": [
    "---\n",
    "### Time Module"
   ]
  },
  {
   "cell_type": "markdown",
   "id": "4a84f9e2-daf1-4947-a71f-1801130f4e5d",
   "metadata": {},
   "source": [
    "Often in this course we'll want to see how execution time changes as we adjust various parameters and then plot the results. Though the `timeit` magic command makes timing a short piece of code easy, it is tedious to use for this kind of analysis.\n",
    "\n",
    "As an alternative, we can use the `time` module. This module is able to return timestamps. We can use the difference in these timestamps to measure our code's execution time.\n",
    "\n",
    "Timing execution in this way isn't as robust as using `timeit` because it doesn't automatically perform multiple loops or runs, but it does make it easier to repeat timing measurements within a `for` loop, for example. We can manually decided to find the average and standard deviation if we wish.\n",
    "\n",
    "There are two functions we might consider using, depending on our desired precision:\n",
    "\n",
    "* `time.perf_counter`\n",
    "* `time.perf_counter_ns`\n",
    "\n",
    "While `time.perf_counter` returns time in (fractional) seconds, `time.perf_counter_ns` returns the time in nanoseconds. For shorter run times, it's better to use `time.perf_counter_ns` to avoid floating point errors. Both of these functions return timestamps that only make sense when compared against each other.\n",
    "\n",
    "These functions measure the amount of real time (or **wallclock time**) that has passed, which includes the time that passes when the process sleeps so the CPU can switch to other tasks. The amount of time the CPU spends on other tasks will introduce some variability into the resulting execution time. Both of these `perf_counter` functions return timestamps with the highest precision measurable by the computer.\n",
    "\n",
    "Run the following cell to see `perf_counter` in action."
   ]
  },
  {
   "cell_type": "code",
   "execution_count": 34,
   "id": "c40b25bc-33e3-4744-ae4f-306965b9d385",
   "metadata": {},
   "outputs": [
    {
     "name": "stdout",
     "output_type": "stream",
     "text": [
      "This code took 1.668231561779976e-05 seconds\n",
      "This code took 1.361919566988945e-05 seconds\n",
      "This code took 1.1778902262449265e-05 seconds\n",
      "This code took 1.1461321264505386e-05 seconds\n",
      "This code took 1.1513940989971161e-05 seconds\n",
      "This code took 1.1571217328310013e-05 seconds\n",
      "This code took 1.127738505601883e-05 seconds\n",
      "This code took 1.1412892490625381e-05 seconds\n",
      "This code took 1.157168298959732e-05 seconds\n",
      "This code took 1.1314637959003448e-05 seconds\n"
     ]
    }
   ],
   "source": [
    "for i in range(10):\n",
    "    start = time.perf_counter()\n",
    "    \n",
    "    lst = []\n",
    "    for i in range(100):\n",
    "        lst.append(i)\n",
    "    \n",
    "    end = time.perf_counter()\n",
    "    \n",
    "    print(\"This code took\", (end - start), \"seconds\")"
   ]
  },
  {
   "cell_type": "markdown",
   "id": "492e4ac1-d119-4ce7-bd7b-297b0b9553ae",
   "metadata": {},
   "source": [
    "---\n",
    "#### Exercises"
   ]
  },
  {
   "cell_type": "markdown",
   "id": "24c0efdd-8c34-42ea-aef6-5298f3fa6fc7",
   "metadata": {
    "tags": []
   },
   "source": [
    "1. Rerun the `perf_counter` example a couple of times and notice the variation in timing measurements. This is what `timeit` is trying to account for by using multiple runs. What's the highest value you've seen? What's the lowest?"
   ]
  },
  {
   "cell_type": "markdown",
   "id": "dcc516f5-6db6-4379-88d5-55dace917ef0",
   "metadata": {},
   "source": [
    "The highest value listed was 16.7 microseconds, and the lowest returned was 11.2 microseconds."
   ]
  },
  {
   "cell_type": "markdown",
   "id": "d532aec2-7ae7-4ebf-9e9b-72a9ee084339",
   "metadata": {},
   "source": [
    "2. The `perf_counter` example runs the same code as the `%%timeit` example from above. Compare the timing measurements returned by these two measurements. Are they different? Which seems to be higher? Google something like \"perf_counter vs timeit\" to do some research on subtle differences between these approaches that might explain this difference."
   ]
  },
  {
   "cell_type": "markdown",
   "id": "a7469c77-11b5-4ac2-8c97-43e7848e44b6",
   "metadata": {},
   "source": [
    "They are slightly different. The `perf_counter` example returns answers above 10 microseconds, and the `%%timeit` cell returns an answer of about 4 microseconds. The `perf_counter` is measuring the actual time spent in the cell, including the time that the CPU spends on other processes; the `%%timeit` calculates the statistics of a single small snippet of code, ignoring the time spent by the CPU on other processes."
   ]
  },
  {
   "cell_type": "markdown",
   "id": "926a1fec-72ac-4d74-87b6-c6799c3e92fa",
   "metadata": {},
   "source": [
    "3. Time the following block of code for array sizes `n` of 10, 100, 1000, and 10000. Use both `perf_counter` in a `for` loop and `timeit`, and plot both results. Make sure to include **axis labels and a legend**. Put your code in the following cells as indicated by the comments.\n",
    "\n",
    "```python\n",
    "arr = np.arange(n) # change n\n",
    "csum = 0\n",
    "for num in arr:\n",
    "    csum += num\n",
    "```"
   ]
  },
  {
   "cell_type": "code",
   "execution_count": 10,
   "id": "8467be08-fd00-402a-ba0f-6a6078ce8a5d",
   "metadata": {},
   "outputs": [
    {
     "name": "stdout",
     "output_type": "stream",
     "text": [
      "[2.69226730e-05 3.14018689e-05 2.25431751e-04 2.17500469e-03]\n"
     ]
    }
   ],
   "source": [
    "N = np.array([10,100,1000,10000])\n",
    "perf_t = np.zeros(len(N))\n",
    "\n",
    "for idx,n in enumerate(N):\n",
    "    start = time.perf_counter()\n",
    "    \n",
    "    arr = np.arange(n) # change n\n",
    "    csum = 0\n",
    "    for num in arr:\n",
    "        csum += num\n",
    "    \n",
    "    end = time.perf_counter()\n",
    "    perf_t[idx] = end-start\n",
    "\n",
    "print(perf_t)"
   ]
  },
  {
   "cell_type": "code",
   "execution_count": 42,
   "id": "85081203-3b9e-4d3b-9deb-3b21e5144acb",
   "metadata": {},
   "outputs": [
    {
     "name": "stdout",
     "output_type": "stream",
     "text": [
      "1.1 ms ± 4.84 μs per loop (mean ± std. dev. of 7 runs, 1,000 loops each)\n"
     ]
    }
   ],
   "source": [
    "%%timeit\n",
    "arr = np.arange(10000) # change n\n",
    "csum = 0\n",
    "for num in arr:\n",
    "    csum += num"
   ]
  },
  {
   "cell_type": "code",
   "execution_count": 11,
   "id": "ee433918-2b2c-4988-9c06-83fde86395a7",
   "metadata": {},
   "outputs": [
    {
     "data": {
      "text/plain": [
       "<matplotlib.legend.Legend at 0x14c08a15d220>"
      ]
     },
     "execution_count": 11,
     "metadata": {},
     "output_type": "execute_result"
    },
    {
     "data": {
      "image/png": "[encoded data removed]",
      "text/plain": [
       "<Figure size 640x480 with 1 Axes>"
      ]
     },
     "metadata": {},
     "output_type": "display_data"
    }
   ],
   "source": [
    "# plot both measurements\n",
    "import matplotlib.pyplot as plt\n",
    "\n",
    "timeit_t = np.array([5.87e-6,15.7e-6,116e-6,1.1e-3])\n",
    "fig,ax = plt.subplots()\n",
    "ax.plot(N,perf_t,label='perf_counter')\n",
    "ax.plot(N,timeit_t,label='timeit')\n",
    "ax.set_xlabel('n')\n",
    "ax.set_ylabel('time measurement (s)')\n",
    "ax.legend()"
   ]
  },
  {
   "cell_type": "markdown",
   "id": "49af6d9b-93d9-4951-a7a8-a80706676aac",
   "metadata": {},
   "source": [
    "4. In what instance would you *personally* prefer to use `timeit`? When would you prefer to use `time.perf_counter`?"
   ]
  },
  {
   "cell_type": "markdown",
   "id": "aa1a5f40-f8ec-4581-adbb-eee2f7ef7f22",
   "metadata": {},
   "source": [
    "I would prefer to use `timeit` for large iterative loops, but `perf_counter` is likely better to get an accurate measurement of a large block of code to understand performance on a computer that is running other processes as well."
   ]
  },
  {
   "cell_type": "markdown",
   "id": "40b9ed8c-b3f2-40f5-bfc8-ea5e1e89ab44",
   "metadata": {},
   "source": [
    "---\n",
    "## Profiling"
   ]
  },
  {
   "cell_type": "markdown",
   "id": "eadad35b-4b55-456e-b9b8-b7d0d6997fbc",
   "metadata": {},
   "source": [
    "\"Profiling\" ones code means gathering data about how the program is executed. Some common questions that profiling can answer are:\n",
    "\n",
    "* What part of the code does the program spend the most time in?\n",
    "* What code represents the slowest part of my program?\n",
    "* How much memory is my program using?\n",
    "\n",
    "Answering such questions allows us to identify targets for **optimization**.\n",
    "\n",
    "Usually, profiling code execution times and memory usage require different tools. We will focus on execution time in this course. In particular, we'll use two magic commands: `prun` and `lprun`.\n",
    "\n",
    "For this exercise, we'll use a program to calculate [Julia sets](https://en.wikipedia.org/wiki/Julia_set) modified from [High Performance Python by Gorelick & Ozsvald](https://github.com/mynameisfiber/high_performance_python_2e/tree/master/02_profiling)."
   ]
  },
  {
   "cell_type": "markdown",
   "id": "498a1144-a52a-42a4-8d0b-3357320982cf",
   "metadata": {},
   "source": [
    "### The Julia Set"
   ]
  },
  {
   "cell_type": "markdown",
   "id": "993ac3a6-bb49-410e-9a68-51c76e826772",
   "metadata": {},
   "source": [
    "Julia sets are defined by picking a complex point $c$; for instance, $c=-0.62772 - j0.42193$ where $j$ is the imaginary number. For a set of complex coordinates $z$, the coordinate $z$ belongs to the Julia set if the iteration $z^\\prime = z^2+c$ remains less than 2. \n",
    "\n",
    "The following code applies this test, putting a cap on the maximum number of iterations used to test each coordinate $z$. We save the number of iterations `n_iter` used to test each coordinate $z$. We will use the built-in [`complex`](https://docs.python.org/2/library/stdtypes.html#numeric-types-int-float-long-complex) type for our imaginary numbers."
   ]
  },
  {
   "cell_type": "code",
   "execution_count": 2,
   "id": "6c11b438-9967-431c-b903-e0b6a39d0179",
   "metadata": {},
   "outputs": [],
   "source": [
    "def test_julia(zs, c, max_iter):\n",
    "    \"\"\"\n",
    "    Given a complex coordinate c and a list of complex coordinates zs,\n",
    "    test whether each z in zs belongs to the Julia set defined by c.\n",
    "    \n",
    "    Return the number of iterations n_iter needed to determine\n",
    "    whether or not each z is in the set.\n",
    "    \n",
    "    The number of iterations is capped by max_iter.\n",
    "    \"\"\"\n",
    "    output = [0] * len(zs) # create list of zeros with length len(zs)\n",
    "\n",
    "    for i in range(len(zs)):\n",
    "        n_iter = 0\n",
    "        z = zs[i]\n",
    "        while abs(z) < 2 and n_iter < max_iter:\n",
    "            z = z * z + c\n",
    "            n_iter += 1\n",
    "        output[i] = n_iter\n",
    "        \n",
    "    return output"
   ]
  },
  {
   "cell_type": "markdown",
   "id": "f136cab0-872d-4d76-b9c4-739392c2f609",
   "metadata": {},
   "source": [
    "We can then write a function that constructs a grid of $z = x + jy$ coordinates and plots the number of iterations needed to test each $z$. The lightest points belong to the Julia set, while darker points require fewer iterations to exclude them from the set. This is the most common way of visualizing Julia sets."
   ]
  },
  {
   "cell_type": "code",
   "execution_count": 3,
   "id": "1cc7042a-da8d-495e-aa40-ebb045987944",
   "metadata": {},
   "outputs": [],
   "source": [
    "def calc_julia_set(c, x1, x2, y1, y2,\n",
    "                   width=1000, max_iterations=300, draw_output=False):\n",
    "    \"\"\"\n",
    "    Create a list of complex coordinates zs where z = x + iy\n",
    "    and test whether these points belong to the Julia set\n",
    "    defined by c. Optionally plot the resuling set.\n",
    "\n",
    "    Returns the sum of iterations needed to test all zs.\n",
    "    \n",
    "    The lower and upper bounds of x and y \n",
    "    are defined by x1, x2, y1, and y2.\n",
    "    The width controls the number of coordinates \n",
    "    between the minimum and maximum.\n",
    "    Control the maximum number of iterations for testing each\n",
    "    coordinate z with max_iterations.\n",
    "    Control plotting with draw_output.\n",
    "    \"\"\"\n",
    "    # Construct lists of x and y (real and imaginary) coordinates\n",
    "    x_step = (x2 - x1) / width\n",
    "    y_step = (y1 - y2) / width\n",
    "    x = []\n",
    "    y = []\n",
    "    ycoord = y2\n",
    "    while ycoord > y1:\n",
    "        y.append(ycoord)\n",
    "        ycoord += y_step\n",
    "    xcoord = x1\n",
    "    while xcoord < x2:\n",
    "        x.append(xcoord)\n",
    "        xcoord += x_step\n",
    "\n",
    "    # Combine x and y into a list of complex z coordinates\n",
    "    zs = []\n",
    "    for ycoord in y:\n",
    "        for xcoord in x:\n",
    "            zs.append(complex(xcoord, ycoord))\n",
    "\n",
    "    # Print information about dimensionality\n",
    "    print(\"Length of x:\", len(x))\n",
    "    print(\"Total elements:\", len(zs))\n",
    "\n",
    "    # Calculate the Julia set\n",
    "    output = test_julia(zs, c, max_iterations)\n",
    "\n",
    "    # Optionally plot the set\n",
    "    if draw_output:\n",
    "        plt.pcolormesh(x, y, np.reshape(output, (width, width)))\n",
    "\n",
    "    return sum(output)"
   ]
  },
  {
   "cell_type": "markdown",
   "id": "56fc82c9-669d-47bb-9e03-59c1d6b707e6",
   "metadata": {},
   "source": [
    "With our functions defined, let's set our parameters:"
   ]
  },
  {
   "cell_type": "code",
   "execution_count": 5,
   "id": "ed7cd95b-7489-4371-a738-97c26b95c116",
   "metadata": {},
   "outputs": [
    {
     "name": "stdout",
     "output_type": "stream",
     "text": [
      "c is (-0.62772-0.42193j)\n"
     ]
    }
   ],
   "source": [
    "c_init = complex(-0.62772, -0.42193)\n",
    "print(\"c is\", c_init)\n",
    "\n",
    "x_min, x_max = -1.8, 1.8\n",
    "y_min, y_max = -1.8, 1.8"
   ]
  },
  {
   "cell_type": "markdown",
   "id": "9b9f8fda-a5be-4cc9-8055-602885ea6235",
   "metadata": {},
   "source": [
    "For the default `width` and `max_iterations`, we expect `sum(output)` to be 33219980. We can use this to test the correctness of our function as we make changes. "
   ]
  },
  {
   "cell_type": "code",
   "execution_count": 18,
   "id": "4eedbeaf-afa0-4ee7-9e99-944e1368f7d8",
   "metadata": {},
   "outputs": [],
   "source": [
    "expected_sum = 33219980"
   ]
  },
  {
   "cell_type": "markdown",
   "id": "a61fc414-e3bd-4a5f-b25f-59ec5c2cb778",
   "metadata": {},
   "source": [
    "---\n",
    "#### Exercise\n",
    "\n",
    "Calculate, display, and verify the Julia set for `c_init` and the x and y bounds defined above."
   ]
  },
  {
   "cell_type": "code",
   "execution_count": 58,
   "id": "a6979837-6a76-4fb5-a039-27602aa820af",
   "metadata": {},
   "outputs": [
    {
     "name": "stdout",
     "output_type": "stream",
     "text": [
      "Length of x: 1000\n",
      "Total elements: 1000000\n",
      "Julia set: 33219980\n",
      "Difference: 0\n"
     ]
    }
   ],
   "source": [
    "# Calculate Julia set\n",
    "verify_Julia = calc_julia_set(\n",
    "    c=c_init,\n",
    "    x1=x_min,\n",
    "    x2=x_max,\n",
    "    y1=y_min,\n",
    "    y2=y_max\n",
    ")\n",
    "print(f'Julia set: {verify_Julia}')\n",
    "print(f'Difference: {verify_Julia - expected_sum}')"
   ]
  },
  {
   "cell_type": "markdown",
   "id": "5f552bd2-1b05-4371-b69d-258df9884534",
   "metadata": {},
   "source": [
    "---\n",
    "### Profiling the Julia Set Calculation\n",
    "\n",
    "Programs are often long and complex. A developer following best practices will split such a program into functions; but even if the developer doesn't, a program will still likely rely on a number of functions built into Python and any imported modules (such as NumPy). A **function-by-function** profiler such as the magic command `prun` will return timing information for all functions used in a program, both user-defined and otherwise. This timing information will also include the number of times a program was called. \n",
    "\n",
    "It's generally safe to assume that any function not written by you -- that is, a function in a module or built into Python -- is already optmizied.\n",
    "\n",
    "After identifying *functions* that could benefit from optimization, you may want to turn to a **line-by-line** profiler such as the `%lprun` magic command provided by the `line_profiler` module (aka \"kernprof\"). **This module can also be invoked inside [scripts](https://kernprof.readthedocs.io/en/latest/) run from the command line.** Such a profiler will give you information on the performance of individual lines of code.\n",
    "\n",
    "We'll practice parsing the output of `%prun` and `%lprun`. If you ever want more information about these magic commands, you can run them with a question mark; e.g. `%prun?`"
   ]
  },
  {
   "cell_type": "markdown",
   "id": "fe57103c-d7d3-4910-b2e5-3760207588d5",
   "metadata": {},
   "source": [
    "---\n",
    "#### Exercises"
   ]
  },
  {
   "cell_type": "markdown",
   "id": "213163bb-3037-4134-abac-0241190504b3",
   "metadata": {},
   "source": [
    "1. Before we start, which function used by `calc_julia_set` do you think consumes the most time? Remember that even a short function called many times can contribute significantly to the overall wall time."
   ]
  },
  {
   "cell_type": "markdown",
   "id": "7657eec5-4556-4704-aaf8-1a933f5c2b79",
   "metadata": {},
   "source": [
    "The function that consumes the most time is probably `test_julia` because it takes as an input `zs` which is an array that is created by a nested for loop of appended values, and the function then has to internally iterate through all values of z (a doubly nested for loop for all values of `x` and `y`)"
   ]
  },
  {
   "cell_type": "markdown",
   "id": "cb61b7cb-3fa1-498e-af64-2398c0a16cfb",
   "metadata": {},
   "source": [
    "2. Use `%prun` to profile `calc_julia_set` function-by-function. Disable drawing to see fewer functions. Can you identify the user-defined functions?"
   ]
  },
  {
   "cell_type": "code",
   "execution_count": 62,
   "id": "1feccccd-1af9-45b3-89e6-69f125906b1c",
   "metadata": {},
   "outputs": [
    {
     "name": "stdout",
     "output_type": "stream",
     "text": [
      "Length of x: 1000\n",
      "Total elements: 1000000\n",
      " "
     ]
    },
    {
     "data": {
      "text/plain": [
       "         35223483 function calls (35223463 primitive calls) in 17.748 seconds\n",
       "\n",
       "   Ordered by: internal time\n",
       "\n",
       "   ncalls  tottime  percall  cumtime  percall filename:lineno(function)\n",
       "       17   10.389    0.611   16.038    0.943 {built-in method time.sleep}\n",
       " 34219980    6.011    0.000    6.011    0.000 {built-in method builtins.abs}\n",
       "      7/1    0.382    0.055    0.000    0.000 {method 'poll' of 'select.epoll' objects}\n",
       "        8    0.335    0.042    8.425    1.053 selectors.py:451(select)\n",
       "        1    0.278    0.278    0.432    0.432 3305798086.py:1(test_julia)\n",
       "  1002011    0.176    0.000    0.176    0.000 {method 'append' of 'list' objects}\n",
       "        2    0.106    0.053    0.145    0.073 {method '__exit__' of 'sqlite3.Connection' objects}\n",
       "        8    0.029    0.004    8.467    1.058 base_events.py:1909(_run_once)\n",
       "        1    0.021    0.021    9.125    9.125 <string>:1(<module>)\n",
       "        1    0.011    0.011    0.011    0.011 {built-in method builtins.sum}\n",
       "        1    0.007    0.007    0.008    0.008 {method 'execute' of 'sqlite3.Connection' objects}\n",
       "        1    0.000    0.000    0.000    0.000 {method 'disable' of '_lsprof.Profiler' objects}\n",
       "       23    0.000    0.000    0.000    0.000 socket.py:626(send)\n",
       "        8    0.000    0.000    0.001    0.000 iostream.py:655(write)\n",
       "        9    0.000    0.000    0.000    0.000 attrsettr.py:66(_get_attr_opt)\n",
       "      114    0.000    0.000    0.000    0.000 enum.py:1544(_get_value)\n",
       "  265/257    0.000    0.000    0.000    0.000 {built-in method builtins.isinstance}\n",
       "        1    0.000    0.000    9.104    9.104 1933441146.py:1(calc_julia_set)\n",
       "       24    0.000    0.000    0.000    0.000 enum.py:1551(__or__)\n",
       "        9    0.000    0.000    0.000    0.000 attrsettr.py:43(__getattr__)\n",
       "        1    0.000    0.000   17.590   17.590 {built-in method builtins.exec}\n",
       "       18    0.000    0.000    0.000    0.000 {built-in method posix.getppid}\n",
       "       10    0.000    0.000    0.002    0.000 {method 'run' of '_contextvars.Context' objects}\n",
       "        3    0.000    0.000    0.000    0.000 socket.py:703(send_multipart)\n",
       "       51    0.000    0.000    0.000    0.000 enum.py:726(__call__)\n",
       "       14    0.000    0.000    0.000    0.000 enum.py:1562(__and__)\n",
       "        4    0.000    0.000    0.000    0.000 socket.py:774(recv_multipart)\n",
       "       10    0.000    0.000    0.002    0.000 events.py:86(_run)\n",
       "        4    0.000    0.000    0.000    0.000 encoder.py:205(iterencode)\n",
       "        1    0.000    0.000    0.000    0.000 iostream.py:127(_event_pipe_gc)\n",
       "        5    0.000    0.000    0.000    0.000 threading.py:1222(is_alive)\n",
       "        1    0.000    0.000    0.000    0.000 iostream.py:118(_run_event_pipe_gc)\n",
       "        1    0.000    0.000   17.590   17.590 threading.py:637(wait)\n",
       "       51    0.000    0.000    0.000    0.000 enum.py:1129(__new__)\n",
       "        4    0.000    0.000    0.001    0.000 zmqstream.py:583(_handle_events)\n",
       "        2    0.000    0.000    0.000    0.000 tasks.py:653(sleep)\n",
       "        2    0.000    0.000    0.000    0.000 {method 'isoformat' of 'datetime.datetime' objects}\n",
       "        6    0.000    0.000    0.000    0.000 events.py:36(__init__)\n",
       "       23    0.000    0.000    0.000    0.000 traitlets.py:676(__get__)\n",
       "       12    0.000    0.000    0.000    0.000 typing.py:392(inner)\n",
       "        1    0.000    0.000    0.001    0.001 iostream.py:616(_flush)\n",
       "        4    0.000    0.000    0.000    0.000 base_events.py:814(_call_soon)\n",
       "        1    0.000    0.000    0.000    0.000 inspect.py:3129(_bind)\n",
       "        2    0.000    0.000    0.000    0.000 {method 'recv' of '_socket.socket' objects}\n",
       "        1    0.000    0.000    0.000    0.000 session.py:754(send)\n",
       "       23    0.000    0.000    0.000    0.000 traitlets.py:629(get)\n",
       "        1    0.000    0.000    0.154    0.154 history.py:845(writeout_cache)\n",
       "        9    0.000    0.000    0.000    0.000 <frozen importlib._bootstrap>:1390(_handle_fromlist)\n",
       "       60    0.000    0.000    0.000    0.000 {built-in method builtins.len}\n",
       "       17    0.000    0.000    0.000    0.000 {built-in method builtins.hasattr}\n",
       "        6    0.000    0.000    0.000    0.000 queue.py:97(empty)\n",
       "       16    0.000    0.000    0.000    0.000 {built-in method builtins.max}\n",
       "        5    0.000    0.000    0.000    0.000 zmqstream.py:663(_rebuild_io_state)\n",
       "        4    0.000    0.000    0.000    0.000 __init__.py:183(dumps)\n",
       "        2    0.000    0.000    0.000    0.000 base_events.py:743(call_later)\n",
       "        2    0.000    0.000    0.001    0.000 {built-in method builtins.print}\n",
       "        1    0.000    0.000    0.000    0.000 session.py:649(msg)\n",
       "        2    0.000    0.000    0.000    0.000 iostream.py:710(_flush_buffers)\n",
       "        3    0.000    0.000    0.000    0.000 {method 'set_result' of '_asyncio.Future' objects}\n",
       "        3    0.000    0.000    0.000    0.000 iostream.py:278(_really_send)\n",
       "       16    0.000    0.000    0.000    0.000 base_events.py:734(time)\n",
       "        3    0.000    0.000    0.000    0.000 traitlets.py:727(_cross_validate)\n",
       "        1    0.000    0.000    0.000    0.000 poll.py:80(poll)\n",
       "        4    0.000    0.000    0.000    0.000 encoder.py:183(encode)\n",
       "        4    0.000    0.000    0.001    0.000 zmqstream.py:624(_handle_recv)\n",
       "        1    0.000    0.000    0.000    0.000 session.py:690(serialize)\n",
       "        4    0.000    0.000    0.000    0.000 iostream.py:157(_handle_event)\n",
       "        5    0.000    0.000    0.000    0.000 zmqstream.py:686(_update_handler)\n",
       "       14    0.000    0.000    0.000    0.000 {built-in method posix.getpid}\n",
       "        2    0.000    0.000    0.000    0.000 base_events.py:767(call_at)\n",
       "        4    0.000    0.000    0.000    0.000 typing.py:1492(__subclasscheck__)\n",
       "        1    0.000    0.000    0.000    0.000 traitlets.py:1527(_notify_observers)\n",
       "      8/3    0.000    0.000    0.000    0.000 {method 'acquire' of '_thread.lock' objects}\n",
       "        3    0.000    0.000    0.000    0.000 traitlets.py:718(_validate)\n",
       "        3    0.000    0.000    0.000    0.000 traitlets.py:689(set)\n",
       "        1    0.000    0.000    0.000    0.000 events.py:155(cancel)\n",
       "        9    0.000    0.000    0.000    0.000 selector_events.py:750(_process_events)\n",
       "        8    0.000    0.000    0.000    0.000 iostream.py:505(parent_header)\n",
       "        3    0.000    0.000    0.001    0.000 ioloop.py:742(_run_callback)\n",
       "        4    0.000    0.000    0.001    0.000 zmqstream.py:556(_run_callback)\n",
       "        1    0.000    0.000    0.000    0.000 base_events.py:447(create_future)\n",
       "        8    0.000    0.000    0.000    0.000 typing.py:1285(__hash__)\n",
       "        1    0.000    0.000    0.000    0.000 kernelbase.py:302(poll_control_queue)\n",
       "        3    0.000    0.000    0.000    0.000 base_events.py:785(call_soon)\n",
       "        9    0.000    0.000    0.000    0.000 {built-in method builtins.getattr}\n",
       "        3    0.000    0.000    0.000    0.000 traitlets.py:708(__set__)\n",
       "      2/1    0.000    0.000    0.155    0.155 decorator.py:229(fun)\n",
       "        1    0.000    0.000    0.153    0.153 history.py:833(_writeout_input_cache)\n",
       "        2    0.000    0.000    0.000    0.000 traitlets.py:3631(set)\n",
       "        1    0.000    0.000    0.000    0.000 hmac.py:122(copy)\n",
       "        3    0.000    0.000    0.000    0.000 iostream.py:276(<lambda>)\n",
       "        2    0.000    0.000    0.000    0.000 iostream.py:259(schedule)\n",
       "        4    0.000    0.000    0.000    0.000 session.py:92(json_packer)\n",
       "        5    0.000    0.000    0.000    0.000 threading.py:1155(_wait_for_tstate_lock)\n",
       "        1    0.000    0.000    0.000    0.000 zmqstream.py:427(flush)\n",
       "        2    0.000    0.000    0.000    0.000 jsonutil.py:107(json_default)\n",
       "       63    0.000    0.000    0.000    0.000 typing.py:2182(cast)\n",
       "        1    0.000    0.000    0.000    0.000 asyncio.py:225(add_callback)\n",
       "       15    0.000    0.000    0.000    0.000 {method 'append' of 'collections.deque' objects}\n",
       "        1    0.000    0.000    0.000    0.000 iostream.py:718(_rotate_buffers)\n",
       "        2    0.000    0.000    0.000    0.000 events.py:111(__init__)\n",
       "        4    0.000    0.000    0.000    0.000 typing.py:1221(__instancecheck__)\n",
       "        1    0.000    0.000    0.000    0.000 session.py:675(sign)\n",
       "        1    0.000    0.000    0.000    0.000 kernelbase.py:324(_flush)\n",
       "       16    0.000    0.000    0.000    0.000 {built-in method time.monotonic}\n",
       "        1    0.000    0.000    0.000    0.000 futures.py:311(_set_result_unless_cancelled)\n",
       "        2    0.000    0.000    0.000    0.000 traitlets.py:3474(validate)\n",
       "        1    0.000    0.000    0.000    0.000 _base.py:537(set_result)\n",
       "        8    0.000    0.000    0.000    0.000 iostream.py:550(_is_master_process)\n",
       "        1    0.000    0.000    0.000    0.000 selector_events.py:129(_read_from_self)\n",
       "        1    0.000    0.000    0.000    0.000 queues.py:225(get)\n",
       "        3    0.000    0.000    0.001    0.000 asyncio.py:200(_handle_events)\n",
       "        8    0.000    0.000    0.000    0.000 iostream.py:577(_schedule_flush)\n",
       "        1    0.000    0.000    0.000    0.000 traitlets.py:1512(_notify_trait)\n",
       "        1    0.000    0.000    0.000    0.000 {method 'send' of '_socket.socket' objects}\n",
       "        2    0.000    0.000    0.000    0.000 traitlets.py:3624(validate_elements)\n",
       "       16    0.000    0.000    0.000    0.000 {method 'popleft' of 'collections.deque' objects}\n",
       "        4    0.000    0.000    0.000    0.000 {built-in method _abc._abc_subclasscheck}\n",
       "        1    0.000    0.000    0.000    0.000 asyncio.py:210(call_at)\n",
       "        1    0.000    0.000    0.000    0.000 inspect.py:2945(apply_defaults)\n",
       "        6    0.000    0.000    0.000    0.000 zmqstream.py:542(sending)\n",
       "        1    0.000    0.000    0.000    0.000 queues.py:209(put_nowait)\n",
       "        5    0.000    0.000    0.000    0.000 {built-in method builtins.min}\n",
       "        1    0.000    0.000    0.000    0.000 session.py:600(msg_id)\n",
       "        4    0.000    0.000    0.000    0.000 {method 'update' of '_hashlib.HMAC' objects}\n",
       "        1    0.000    0.000    0.000    0.000 decorator.py:199(fix)\n",
       "        3    0.000    0.000    0.000    0.000 threading.py:299(__enter__)\n",
       "        1    0.000    0.000    0.000    0.000 {method 'copy' of '_hashlib.HMAC' objects}\n",
       "        4    0.000    0.000    0.000    0.000 base_events.py:1894(_add_callback)\n",
       "        1    0.000    0.000    0.000    0.000 session.py:281(extract_header)\n",
       "        2    0.000    0.000    0.000    0.000 {built-in method _heapq.heappop}\n",
       "        1    0.000    0.000    0.000    0.000 {method 'hexdigest' of '_hashlib.HMAC' objects}\n",
       "        9    0.000    0.000    0.000    0.000 {method 'upper' of 'str' objects}\n",
       "       11    0.000    0.000    0.000    0.000 {method '__exit__' of '_thread.lock' objects}\n",
       "        4    0.000    0.000    0.000    0.000 {built-in method builtins.issubclass}\n",
       "        5    0.000    0.000    0.000    0.000 {method 'encode' of 'str' objects}\n",
       "        8    0.000    0.000    0.000    0.000 {method 'write' of '_io.StringIO' objects}\n",
       "        1    0.000    0.000    0.000    0.000 {built-in method now}\n",
       "        1    0.000    0.000    0.155    0.155 history.py:55(only_when_enabled)\n",
       "        1    0.000    0.000    0.000    0.000 queues.py:186(put)\n",
       "        1    0.000    0.000    0.000    0.000 zmqstream.py:468(update_flag)\n",
       "        1    0.000    0.000    0.000    0.000 ioloop.py:596(call_later)\n",
       "       10    0.000    0.000    0.000    0.000 {method 'items' of 'dict' objects}\n",
       "        1    0.000    0.000    0.000    0.000 traitlets.py:2635(validate)\n",
       "        1    0.000    0.000    0.000    0.000 inspect.py:2892(args)\n",
       "       10    0.000    0.000    0.000    0.000 {method '__exit__' of '_thread.RLock' objects}\n",
       "        2    0.000    0.000    0.000    0.000 traitlets.py:2304(validate)\n",
       "        5    0.000    0.000    0.000    0.000 {built-in method math.ceil}\n",
       "        2    0.000    0.000    0.000    0.000 iostream.py:138(_event_pipe)\n",
       "        1    0.000    0.000    0.000    0.000 concurrent.py:182(future_set_result_unless_cancelled)\n",
       "        4    0.000    0.000    0.000    0.000 <frozen abc>:121(__subclasscheck__)\n",
       "        2    0.000    0.000    0.000    0.000 queues.py:322(_consume_expired)\n",
       "        2    0.000    0.000    0.000    0.000 ioloop.py:541(time)\n",
       "        8    0.000    0.000    0.000    0.000 {method 'get' of '_contextvars.ContextVar' objects}\n",
       "        1    0.000    0.000    0.000    0.000 session.py:645(msg_header)\n",
       "        1    0.000    0.000    0.000    0.000 session.py:198(utcnow)\n",
       "        3    0.000    0.000    0.000    0.000 iostream.py:213(_is_master_process)\n",
       "        2    0.000    0.000    0.000    0.000 {method 'replace' of 'str' objects}\n",
       "        1    0.000    0.000    0.000    0.000 traitlets.py:1523(notify_change)\n",
       "        6    0.000    0.000    0.000    0.000 queue.py:209(_qsize)\n",
       "        1    0.000    0.000    0.000    0.000 session.py:272(msg_header)\n",
       "        4    0.000    0.000    0.000    0.000 hmac.py:117(update)\n",
       "        3    0.000    0.000    0.000    0.000 threading.py:302(__exit__)\n",
       "        1    0.000    0.000    0.000    0.000 hmac.py:161(hexdigest)\n",
       "        2    0.000    0.000    0.000    0.000 {built-in method _heapq.heappush}\n",
       "        1    0.000    0.000    0.000    0.000 futures.py:394(_call_set_state)\n",
       "        8    0.000    0.000    0.000    0.000 {built-in method builtins.hash}\n",
       "        3    0.000    0.000    0.000    0.000 iostream.py:216(_check_mp_mode)\n",
       "        6    0.000    0.000    0.000    0.000 {method 'get' of 'dict' objects}\n",
       "        4    0.000    0.000    0.000    0.000 {built-in method _contextvars.copy_context}\n",
       "        1    0.000    0.000    0.000    0.000 queues.py:256(get_nowait)\n",
       "        1    0.000    0.000    0.000    0.000 {built-in method builtins.locals}\n",
       "        1    0.000    0.000    0.000    0.000 history.py:839(_writeout_output_cache)\n",
       "        4    0.000    0.000    0.000    0.000 selectors.py:275(_key_from_fd)\n",
       "        1    0.000    0.000    0.000    0.000 threading.py:424(notify_all)\n",
       "        1    0.000    0.000    0.000    0.000 base_events.py:838(call_soon_threadsafe)\n",
       "        1    0.000    0.000    0.000    0.000 threading.py:308(_release_save)\n",
       "        6    0.000    0.000    0.000    0.000 {built-in method builtins.next}\n",
       "        6    0.000    0.000    0.000    0.000 base_events.py:539(_check_closed)\n",
       "        1    0.000    0.000    0.000    0.000 iostream.py:587(_schedule_in_thread)\n",
       "        1    0.000    0.000    0.000    0.000 threading.py:311(_acquire_restore)\n",
       "        5    0.000    0.000    0.000    0.000 threading.py:601(is_set)\n",
       "        4    0.000    0.000    0.000    0.000 encoder.py:105(__init__)\n",
       "        1    0.000    0.000    0.000    0.000 inspect.py:2915(kwargs)\n",
       "        1    0.000    0.000    0.000    0.000 threading.py:394(notify)\n",
       "        1    0.000    0.000    0.000    0.000 selector_events.py:141(_write_to_self)\n",
       "        9    0.000    0.000    0.000    0.000 zmqstream.py:538(receiving)\n",
       "        1    0.000    0.000    0.000    0.000 events.py:72(cancel)\n",
       "        2    0.000    0.000    0.000    0.000 {built-in method _asyncio.get_running_loop}\n",
       "        3    0.000    0.000    0.000    0.000 {method 'items' of 'mappingproxy' objects}\n",
       "       10    0.000    0.000    0.000    0.000 base_events.py:2004(get_debug)\n",
       "        1    0.000    0.000    0.000    0.000 iostream.py:271(send_multipart)\n",
       "        1    0.000    0.000    0.000    0.000 inspect.py:3268(bind)\n",
       "        1    0.000    0.000    0.000    0.000 threading.py:627(clear)\n",
       "        1    0.000    0.000    0.000    0.000 queues.py:317(__put_internal)\n",
       "        4    0.000    0.000    0.000    0.000 {method 'extend' of 'list' objects}\n",
       "        2    0.000    0.000    0.000    0.000 traitlets.py:3486(validate_elements)\n",
       "        1    0.000    0.000    0.000    0.000 _base.py:337(_invoke_callbacks)\n",
       "        2    0.000    0.000    0.000    0.000 jsonutil.py:38(_ensure_tzinfo)\n",
       "        4    0.000    0.000    0.000    0.000 {method 'join' of 'str' objects}\n",
       "       10    0.000    0.000    0.000    0.000 inspect.py:2804(kind)\n",
       "        2    0.000    0.000    0.000    0.000 {method '__enter__' of '_thread.lock' objects}\n",
       "        2    0.000    0.000    0.000    0.000 tz.py:74(utcoffset)\n",
       "        1    0.000    0.000    0.000    0.000 iostream.py:725(_hooks)\n",
       "        3    0.000    0.000    0.000    0.000 {method 'cancelled' of '_asyncio.Future' objects}\n",
       "        1    0.000    0.000    0.000    0.000 poll.py:31(register)\n",
       "        3    0.000    0.000    0.000    0.000 iostream.py:255(closed)\n",
       "        1    0.000    0.000    0.000    0.000 {method 'getvalue' of '_io.StringIO' objects}\n",
       "        2    0.000    0.000    0.000    0.000 {built-in method time.time}\n",
       "        1    0.000    0.000    0.000    0.000 {built-in method _thread.allocate_lock}\n",
       "        1    0.000    0.000    0.000    0.000 {method '__enter__' of '_thread.RLock' objects}\n",
       "        1    0.000    0.000    0.000    0.000 {built-in method __new__ of type object at 0x560b31974f60}\n",
       "        2    0.000    0.000    0.000    0.000 {built-in method builtins.iter}\n",
       "        1    0.000    0.000    0.000    0.000 unix_events.py:81(_process_self_data)\n",
       "        1    0.000    0.000    0.000    0.000 zmqstream.py:694(<lambda>)\n",
       "        1    0.000    0.000    0.000    0.000 {method 'values' of 'mappingproxy' objects}\n",
       "        4    0.000    0.000    0.000    0.000 inspect.py:3085(parameters)\n",
       "        1    0.000    0.000    0.000    0.000 {method 'close' of '_io.StringIO' objects}\n",
       "        1    0.000    0.000    0.000    0.000 {method 'copy' of 'dict' objects}\n",
       "        1    0.000    0.000    0.000    0.000 events.py:127(__lt__)\n",
       "        1    0.000    0.000    0.000    0.000 threading.py:314(_is_owned)\n",
       "        1    0.000    0.000    0.000    0.000 queues.py:173(qsize)\n",
       "        1    0.000    0.000    0.000    0.000 queues.py:312(_put)\n",
       "        1    0.000    0.000    0.000    0.000 queues.py:309(_get)\n",
       "        1    0.000    0.000    0.000    0.000 {method 'done' of '_asyncio.Future' objects}\n",
       "        1    0.000    0.000    0.000    0.000 queues.py:177(empty)\n",
       "        1    0.000    0.000    0.000    0.000 traitlets.py:2558(_validate_bounds)\n",
       "        1    0.000    0.000    0.000    0.000 {method 'release' of '_thread.lock' objects}\n",
       "        4    0.000    0.000    0.000    0.000 inspect.py:2792(name)\n",
       "        1    0.000    0.000    0.000    0.000 base_events.py:1904(_timer_handle_cancelled)\n",
       "        1    0.000    0.000    0.000    0.000 zmqstream.py:659(_check_closed)\n",
       "        1    0.000    0.000    0.000    0.000 {method '_is_owned' of '_thread.RLock' objects}\n",
       "        1    0.000    0.000    0.000    0.000 hmac.py:139(_current)\n",
       "        1    0.000    0.000    0.000    0.000 queues.py:59(_set_timeout)\n",
       "        1    0.000    0.000    0.000    0.000 inspect.py:2884(__init__)\n",
       "        1    0.000    0.000    0.000    0.000 base_events.py:720(is_closed)\n",
       "        1    0.000    0.000    0.000    0.000 locks.py:224(clear)"
      ]
     },
     "metadata": {},
     "output_type": "display_data"
    }
   ],
   "source": [
    "# Profile calc_julia_set with prun\n",
    "%prun verify_Julia = calc_julia_set(c=c_init,x1=x_min,x2=x_max,y1=y_min,y2=y_max)"
   ]
  },
  {
   "cell_type": "markdown",
   "id": "5523fdea-d983-48a8-bac3-3e92ae996191",
   "metadata": {},
   "source": [
    "3. Explain what each of the columns means. In particular, what is the difference between `totttime` and `cumtime`? Notice the total run time near the top of the output. Google is allowed!"
   ]
  },
  {
   "cell_type": "markdown",
   "id": "07bc8efb-1fbc-47f8-86cc-30bf2a0c06cd",
   "metadata": {},
   "source": [
    "`ncalls` is the number of times the listed function is called; `tottime` is the amount of time spent in each function only, excluding the time spent in the subfunctions of the function; `percall` in column 3 is simply the 2nd column divided by the first (`tottime` / `ncalls`); `cumtime` is the amount of time spent in each function INCLUDING the time spent in subfunctions; `percall` in column 5 is the 4th column divided by the first (`cumtime` / `ncalls`); `filename` is the reference and file to the name of the function being described"
   ]
  },
  {
   "cell_type": "markdown",
   "id": "baad9607-7770-40d9-842e-acf93be2d00b",
   "metadata": {},
   "source": [
    "4. The output says functions are ordered by \"internal time.\" What do you think \"internal time\" is referring to?"
   ]
  },
  {
   "cell_type": "markdown",
   "id": "cbfadfeb-9628-4189-90aa-f6975695c226",
   "metadata": {},
   "source": [
    "Internal time (especially referencing the output of `prun`) appears to be the time spent in the given function but outside the subfunctions of the function."
   ]
  },
  {
   "cell_type": "markdown",
   "id": "0f212253-a373-42ae-96e9-387dbdc51844",
   "metadata": {},
   "source": [
    "5. The `lprun` magic command works a little differntly than `prun`. Since it is provided by a module, we must first load it with `%load_ext`. Then, we must specify a function name with the `-f` argument. We can specify multiple functions by using `-f` multiple times, but `lprun` will *only* profile the functions we specify. Modify the following cells to profile **the user-defined function that `prun` ranked as taking the most internal time**."
   ]
  },
  {
   "cell_type": "code",
   "execution_count": 16,
   "id": "04753501-286d-40a1-85cd-849d43047579",
   "metadata": {
    "scrolled": true
   },
   "outputs": [
    {
     "name": "stdout",
     "output_type": "stream",
     "text": [
      "The line_profiler extension is already loaded. To reload it, use:\n",
      "  %reload_ext line_profiler\n",
      "Length of x: 1000\n",
      "Total elements: 1000000\n"
     ]
    },
    {
     "data": {
      "text/plain": [
       "Timer unit: 1e-09 s\n",
       "\n",
       "Total time: 45.664 s\n",
       "File: /tmp/local/42914233/ipykernel_3298980/3305798086.py\n",
       "Function: test_julia at line 1\n",
       "\n",
       "Line #      Hits         Time  Per Hit   % Time  Line Contents\n",
       "==============================================================\n",
       "     1                                           def test_julia(zs, c, max_iter):\n",
       "     2                                               \"\"\"\n",
       "     3                                               Given a complex coordinate c and a list of complex coordinates zs,\n",
       "     4                                               test whether each z in zs belongs to the Julia set defined by c.\n",
       "     5                                               \n",
       "     6                                               Return the number of iterations n_iter needed to determine\n",
       "     7                                               whether or not each z is in the set.\n",
       "     8                                               \n",
       "     9                                               The number of iterations is capped by max_iter.\n",
       "    10                                               \"\"\"\n",
       "    11         1    4974634.0    5e+06      0.0      output = [0] * len(zs) # create list of zeros with length len(zs)\n",
       "    12                                           \n",
       "    13   1000001  378879470.0    378.9      0.8      for i in range(len(zs)):\n",
       "    14   1000000  336891594.0    336.9      0.7          n_iter = 0\n",
       "    15   1000000  358203928.0    358.2      0.8          z = zs[i]\n",
       "    16  34219980        2e+10    601.8     45.1          while abs(z) < 2 and n_iter < max_iter:\n",
       "    17  33219980        1e+10    390.5     28.4              z = z * z + c\n",
       "    18  33219980        1e+10    321.0     23.4              n_iter += 1\n",
       "    19   1000000  355757392.0    355.8      0.8          output[i] = n_iter\n",
       "    20                                                   \n",
       "    21                                               return output"
      ]
     },
     "metadata": {},
     "output_type": "display_data"
    }
   ],
   "source": [
    "# lprun is an external magic command\n",
    "%load_ext line_profiler\n",
    "\n",
    "# Profile calc_julia_set; EDIT THE LINE BELOW\n",
    "%lprun -f test_julia calc_julia_set(c_init, x_min, x_max, y_min, y_max)"
   ]
  },
  {
   "cell_type": "markdown",
   "id": "c1f62777-a7d5-423c-af88-d300fe714c05",
   "metadata": {},
   "source": [
    "6. Explain what each of the columns mean."
   ]
  },
  {
   "cell_type": "markdown",
   "id": "d07a5f74-30bf-4083-bfb9-e9fe55ed77a3",
   "metadata": {},
   "source": [
    "The first column `Line #` specifies the line number in the definition of the function; the second column `Hits` is the number of times that line was accessed/executed; the third column `Time` specifies the total time (in nanoseconds, since `Timer unit` above declares it to be so) taken by that line of code; the fourth column `Per Hit` specifies the time in nanoseconds that the line requires per each hit, given by column 3 divided by column 2 (`Time` / `Hits`); the fifth column `% Time` is the percentage of the total function time that the line makes up; the final column `Line Contents` displays the actual code."
   ]
  },
  {
   "cell_type": "markdown",
   "id": "377ec6c1-a4ac-4a6c-8f6b-d99f08df0eb8",
   "metadata": {},
   "source": [
    "7. Explain the different number of \"Hits\" for each line. Why do some lines hit 1 million times? Why do some hit more? Others only once?"
   ]
  },
  {
   "cell_type": "markdown",
   "id": "b7986c65-aeec-4e49-aa6e-905935037ec0",
   "metadata": {},
   "source": [
    "Lines that only hit once do so because they are not inside a loop of any kind (see Line 11). The lines that hit 1 million times do so because they are in part of a loop; in this case, `zs` contains 1 million elements, so the for statement will be read 1 million + 1 times (+1 for the final false check) and all the lines within the `for` loop will run at least 1 million times. Additionally, the `while` loop runs until its conditions are no longer satisfied, so it and the lines inside of it will be executed an unspecified additional factor beyond 1 million times."
   ]
  },
  {
   "cell_type": "markdown",
   "id": "80327300-ec5b-484d-b873-e658c325ed02",
   "metadata": {},
   "source": [
    "8. Which line do you think is the best target for optimization? Justify using the stats provided by `lprun`."
   ]
  },
  {
   "cell_type": "markdown",
   "id": "17f6d42d-cbbb-463e-b90e-1ad4fb766e51",
   "metadata": {},
   "source": [
    "Line 16 takes the highest percentage of time, making it the most likely target for optimization. However, that does not necessarily mean it is the only line requiring change in order to optimize the performance of that line (eg, NumPy vector operations can often be applied to replace the contents of `for` loops)"
   ]
  },
  {
   "cell_type": "markdown",
   "id": "9ecfb3a9-da10-4dad-9d8a-edec3d963c88",
   "metadata": {},
   "source": [
    "---\n",
    "## Application: Improving the Julia Set"
   ]
  },
  {
   "cell_type": "markdown",
   "id": "5739a1e6-bdf6-4efc-9040-ba3bfee1fc21",
   "metadata": {},
   "source": [
    "We've learned multiple ways to time and profile our code and we've seen one simple way of testing the Julia set program. Now, you'll employ these skills to improve the wall clock time of the Julia set program.  Create new cells as needed to complete these tasks."
   ]
  },
  {
   "cell_type": "markdown",
   "id": "0d30e882-9b0d-4cba-a01e-b3ea8532e6ef",
   "metadata": {},
   "source": [
    "1. First, perform a timing measurement of `calc_julia_set` to establish a baseline. You can either include the plotting stage or not, but whatever option you choose, you should be consistent."
   ]
  },
  {
   "cell_type": "code",
   "execution_count": 13,
   "id": "811f086f-3e42-40f1-ba9e-4f90c0d86a74",
   "metadata": {},
   "outputs": [
    {
     "name": "stdout",
     "output_type": "stream",
     "text": [
      "Length of x: 1000\n",
      "Total elements: 1000000\n",
      "Length of x: 1000\n",
      "Total elements: 1000000\n",
      "Length of x: 1000\n",
      "Total elements: 1000000\n",
      "Length of x: 1000\n",
      "Total elements: 1000000\n",
      "Length of x: 1000\n",
      "Total elements: 1000000\n",
      "Length of x: 1000\n",
      "Total elements: 1000000\n",
      "Length of x: 1000\n",
      "Total elements: 1000000\n",
      "Length of x: 1000\n",
      "Total elements: 1000000\n",
      "6.66 s ± 53.9 ms per loop (mean ± std. dev. of 7 runs, 1 loop each)\n"
     ]
    }
   ],
   "source": [
    "%%timeit\n",
    "Julia1 = calc_julia_set(c=c_init,x1=x_min,x2=x_max,y1=y_min,y2=y_max)"
   ]
  },
  {
   "cell_type": "markdown",
   "id": "e0a9fade-853c-4b86-a5b4-2e1e7a9d5e95",
   "metadata": {},
   "source": [
    "6.66 s ± 53.9 ms per loop (mean ± std. dev. of 7 runs, 1 loop each)"
   ]
  },
  {
   "cell_type": "markdown",
   "id": "9797db90-4f41-4059-acd7-70c280a5e18f",
   "metadata": {},
   "source": [
    "2. You've already identified the ideal candidate for optimization in the previous section: the statement `while abs(z) < 2 and n_iter < max_iter`. This statement is evaluating two conditions on the same line. Which expression is faster to evaluate, `abs(z) < 2` or `n_iter < max_iter`? Why do you think that is?"
   ]
  },
  {
   "cell_type": "markdown",
   "id": "463e54c4-9d12-491d-bad9-5422d59720a0",
   "metadata": {},
   "source": [
    "The statement `n_iter < max_iter` will definitely be faster to evaluate than `abs(z) < 2` because `abs(z)` has subfunctions in order to calculate the magnitude."
   ]
  },
  {
   "cell_type": "markdown",
   "id": "75826b3c-7148-40d0-82de-53a2fd04ab6a",
   "metadata": {},
   "source": [
    "3. An important part of profiling and refactoring is developing and testing hypotheses. Currently, the `while` statement evaluates `abs(z) < 2` even if the loop is on its final iteration. This represents unnecessary work which we might be able to remove for a performance gain.\n",
    "Before class you were asked to review [Python Operator Precedence](https://introcs.cs.princeton.edu/python/appendix_precedence/). \n",
    "How can you use this information to rewrite the `while` statement and avoid unnecessary work?"
   ]
  },
  {
   "cell_type": "markdown",
   "id": "7f1683fa-3bcc-4378-956e-5cd153d783e9",
   "metadata": {},
   "source": [
    "We should flip the order of the logical statements in the `while` statement since both must be true, so that the `abs(z)` does not need to be calculated unnecessarily if the last iteration has been completed."
   ]
  },
  {
   "cell_type": "markdown",
   "id": "7755dbd4-10ce-4a09-852f-8929ec4c1065",
   "metadata": {},
   "source": [
    "4. Rewrite `test_julia` (ideally making a renamed copy) to include the optimization you came up with above. Update `calc_julia_set` as needed."
   ]
  },
  {
   "cell_type": "code",
   "execution_count": 7,
   "id": "8cd342b1-7dc0-4e6f-959a-4c5ae339ddde",
   "metadata": {},
   "outputs": [],
   "source": [
    "def test_julia2(zs, c, max_iter):\n",
    "    \"\"\"\n",
    "    Given a complex coordinate c and a list of complex coordinates zs,\n",
    "    test whether each z in zs belongs to the Julia set defined by c.\n",
    "    \n",
    "    Return the number of iterations n_iter needed to determine\n",
    "    whether or not each z is in the set.\n",
    "    \n",
    "    The number of iterations is capped by max_iter.\n",
    "    \"\"\"\n",
    "    output = [0] * len(zs) # create list of zeros with length len(zs)\n",
    "\n",
    "    for i in range(len(zs)):\n",
    "        n_iter = 0\n",
    "        z = zs[i]\n",
    "        while (n_iter < max_iter) and (abs(z) < 2):\n",
    "            z = z * z + c\n",
    "            n_iter += 1\n",
    "        output[i] = n_iter\n",
    "        \n",
    "    return output\n",
    "\n",
    "def calc_julia_set2(c, x1, x2, y1, y2,\n",
    "                   width=1000, max_iterations=300, draw_output=False):\n",
    "    \"\"\"\n",
    "    Create a list of complex coordinates zs where z = x + iy\n",
    "    and test whether these points belong to the Julia set\n",
    "    defined by c. Optionally plot the resuling set.\n",
    "\n",
    "    Returns the sum of iterations needed to test all zs.\n",
    "    \n",
    "    The lower and upper bounds of x and y \n",
    "    are defined by x1, x2, y1, and y2.\n",
    "    The width controls the number of coordinates \n",
    "    between the minimum and maximum.\n",
    "    Control the maximum number of iterations for testing each\n",
    "    coordinate z with max_iterations.\n",
    "    Control plotting with draw_output.\n",
    "    \"\"\"\n",
    "    # Construct lists of x and y (real and imaginary) coordinates\n",
    "    x_step = (x2 - x1) / width\n",
    "    y_step = (y1 - y2) / width\n",
    "    x = []\n",
    "    y = []\n",
    "    ycoord = y2\n",
    "    while ycoord > y1:\n",
    "        y.append(ycoord)\n",
    "        ycoord += y_step\n",
    "    xcoord = x1\n",
    "    while xcoord < x2:\n",
    "        x.append(xcoord)\n",
    "        xcoord += x_step\n",
    "\n",
    "    # Combine x and y into a list of complex z coordinates\n",
    "    zs = []\n",
    "    for ycoord in y:\n",
    "        for xcoord in x:\n",
    "            zs.append(complex(xcoord, ycoord))\n",
    "\n",
    "    # Print information about dimensionality\n",
    "    print(\"Length of x:\", len(x))\n",
    "    print(\"Total elements:\", len(zs))\n",
    "\n",
    "    # Calculate the Julia set\n",
    "    output = test_julia2(zs, c, max_iterations)\n",
    "\n",
    "    # Optionally plot the set\n",
    "    if draw_output:\n",
    "        plt.pcolormesh(x, y, np.reshape(output, (width, width)))\n",
    "\n",
    "    return sum(output)"
   ]
  },
  {
   "cell_type": "markdown",
   "id": "3b5ab371-f1d3-4377-8339-5f02c1b86917",
   "metadata": {},
   "source": [
    "5. Test your updated version of `calc_julia_set` to ensure your changes to `test_julia` didn't change the results."
   ]
  },
  {
   "cell_type": "code",
   "execution_count": 21,
   "id": "b10a56d9-a4a8-4327-bff3-f31dd20ab926",
   "metadata": {},
   "outputs": [
    {
     "name": "stdout",
     "output_type": "stream",
     "text": [
      "Length of x: 1000\n",
      "Total elements: 1000000\n",
      "Julia set: 33219980\n",
      "Difference: 0\n"
     ]
    }
   ],
   "source": [
    "verify_Julia2 = calc_julia_set2(\n",
    "    c=c_init,\n",
    "    x1=x_min,\n",
    "    x2=x_max,\n",
    "    y1=y_min,\n",
    "    y2=y_max\n",
    ")\n",
    "print(f'Julia set: {verify_Julia2}')\n",
    "print(f'Difference: {verify_Julia2 - expected_sum}')"
   ]
  },
  {
   "cell_type": "markdown",
   "id": "365aeced-1381-4ef8-9e4a-efa7acbaa08c",
   "metadata": {},
   "source": [
    "6. Time your updated version of `calc_julia_set`. What was the result of testing our hypothesis?"
   ]
  },
  {
   "cell_type": "code",
   "execution_count": 14,
   "id": "fd72fd20-8f35-479c-b58c-173b89a1f272",
   "metadata": {},
   "outputs": [
    {
     "name": "stdout",
     "output_type": "stream",
     "text": [
      "Length of x: 1000\n",
      "Total elements: 1000000\n",
      "Length of x: 1000\n",
      "Total elements: 1000000\n",
      "Length of x: 1000\n",
      "Total elements: 1000000\n",
      "Length of x: 1000\n",
      "Total elements: 1000000\n",
      "Length of x: 1000\n",
      "Total elements: 1000000\n",
      "Length of x: 1000\n",
      "Total elements: 1000000\n",
      "Length of x: 1000\n",
      "Total elements: 1000000\n",
      "Length of x: 1000\n",
      "Total elements: 1000000\n",
      "6.67 s ± 54.7 ms per loop (mean ± std. dev. of 7 runs, 1 loop each)\n"
     ]
    }
   ],
   "source": [
    "%%timeit\n",
    "Julia2 = calc_julia_set2(c=c_init,x1=x_min,x2=x_max,y1=y_min,y2=y_max)"
   ]
  },
  {
   "cell_type": "markdown",
   "id": "6ea83c1e-2d54-4533-8ec4-dc226c424c63",
   "metadata": {},
   "source": [
    "6.67 s ± 54.7 ms per loop (mean ± std. dev. of 7 runs, 1 loop each): The timing measurement hardly changed at all between function definitions. This is likely because abs() is not a very time-consuming function on an individual basis. However, this still shows how useful the %prun and %lprun functions can be in determining what parts of a program are the most time-prohibitive."
   ]
  },
  {
   "cell_type": "markdown",
   "id": "c92b4f8e",
   "metadata": {},
   "source": [
    "## For Next Class\n",
    "\n",
    "Read:\n",
    "\n",
    "* Read **all pages** of this overview on the [basics of the CPU](https://www.bbc.co.uk/bitesize/guides/zws8d2p/revision/1).\n",
    "* Watch [this video](https://thecrashcourse.com/courses/data-structures-crash-course-computer-science-14/) on data structures. This video is not specific to Python. The first roughly 6 minutes are the most relevant for our next class, but you may find all of it interesting and informative.\n",
    "* Read the accompanying PDF on Lists and Tuples to understand how these data structures function under the hood.\n",
    "* **If you've never used NumPy,** I suggest reading the [beginner guide](https://numpy.org/doc/stable/user/absolute_beginners.html)."
   ]
  }
 ],
 "metadata": {
  "kernelspec": {
   "display_name": "Python 3 (ipykernel)",
   "language": "python",
   "name": "python3"
  },
  "language_info": {
   "codemirror_mode": {
    "name": "ipython",
    "version": 3
   },
   "file_extension": ".py",
   "mimetype": "text/x-python",
   "name": "python",
   "nbconvert_exporter": "python",
   "pygments_lexer": "ipython3",
   "version": "3.12.5"
  }
 },
 "nbformat": 4,
 "nbformat_minor": 5
}
