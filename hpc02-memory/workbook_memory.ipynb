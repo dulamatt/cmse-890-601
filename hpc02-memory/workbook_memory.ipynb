{
 "cells": [
  {
   "cell_type": "markdown",
   "id": "3ff6b64d",
   "metadata": {},
   "source": [
    "Matt Dula\n",
    "\n",
    "Collaborators: Cory Hilton, Anton Schlegel, Derek Bowman"
   ]
  },
  {
   "cell_type": "markdown",
   "id": "e2e89fe3-4759-4e45-aa8f-de5d15985fa0",
   "metadata": {},
   "source": [
    "# Memory and Performance"
   ]
  },
  {
   "cell_type": "markdown",
   "id": "1882347a-366e-4e13-a6b3-89e967851c4e",
   "metadata": {},
   "source": [
    "The lecture covered how data flows through a computer in order to execute our code. Most importantly, we introduced the memory hierarchy, the fetch-execute-store cycle, and the basic idea of how data is laid out in memory (also called **data locality**)\n",
    "\n",
    "In this workbook, you'll put these ideas together to learn:\n",
    "* why NumPy arrays are faster than lists for particular kinds of applications\n",
    "* why some methods of creating lists are faster than others\n",
    "\n",
    "Future lessons will build on this understanding of data locality and how it impacts performance, as well as the ability to time code execution."
   ]
  },
  {
   "cell_type": "markdown",
   "id": "4ecb8fde-c867-462b-8f94-b804f98f46ad",
   "metadata": {},
   "source": [
    "---\n",
    "## Diagraming Memory Flow"
   ]
  },
  {
   "cell_type": "markdown",
   "id": "762de057-2510-41fe-aae0-d919da3f5aa6",
   "metadata": {},
   "source": [
    "In the last part of lecture, we introduced **cache lines** as well as the implementation underlying **Python lists** and **NumPy arrays**. \n",
    "\n",
    "The structure of NumPy arrays let's them take advantage of cache lines due to high data locality.\n",
    "\n",
    "For simplicity in the following exercises, **you only need to consider RAM and L1 cache.** We'll use these to represent the whole memory hierarchy (e.g. ingore L2 and L3 cahces). Assume the L1 cache is large enough that it can hold many cache lines and we don't have to worry about data being deleted from it. Also assume that the CPU's registers are so small it is very unlikely that they see any data re-use.\n",
    "\n",
    "We will also assume that **a cache line can fit 8 floating point numbers.**"
   ]
  },
  {
   "cell_type": "markdown",
   "id": "4a8ae52e-91bf-455f-a497-40545b97331d",
   "metadata": {},
   "source": [
    "### NumPy Arrays"
   ]
  },
  {
   "cell_type": "markdown",
   "id": "fe81eb19-9aa5-40c6-9d2e-60095113a3fb",
   "metadata": {},
   "source": [
    "Imagine we have created an array with the following command:\n",
    "\n",
    "```python\n",
    "a = np.ones(100)\n",
    "```\n",
    "\n",
    "This array has size 100, defaults to holding floating point numbers, and every value is set to `1.0`. Remember that arrays store their data in a block of contiguous memory address. It might be helpful to image the array like table in memory:\n",
    "\n",
    "| `a[0]` | `a[1]` | `a[2]` | `a[3]` | ... |\n",
    "|--------|--------|--------|--------|-----|\n",
    "| `1.0`  | `1.0`  | `1.0`  | `1.0`  | ... |\n",
    "\n",
    "\n",
    "Some time after we created the array, we need to access it for calculations. At this time, the array is only present in RAM. We loop through the array as follows:\n",
    "\n",
    "```python\n",
    "for i in range(a.size):\n",
    "    a[i] *= 5\n",
    "```\n"
   ]
  },
  {
   "cell_type": "markdown",
   "id": "e0b4d134-0aaf-43de-a300-245d54dcd7ce",
   "metadata": {},
   "source": [
    "---\n",
    "#### Exercises"
   ]
  },
  {
   "cell_type": "markdown",
   "id": "8fb532ef-f475-479c-a475-e202ce0e3681",
   "metadata": {},
   "source": [
    "1. Which entry in array `a` does the CPU request first? Where is it **first** able to find this value, RAM or L1 cache?"
   ]
  },
  {
   "cell_type": "markdown",
   "id": "27440e13-850e-4376-9a63-128b34828a63",
   "metadata": {},
   "source": [
    "The CPU requests `a[0]` first. It finds this value in RAM first because it is only present there (described above)."
   ]
  },
  {
   "cell_type": "markdown",
   "id": "01404998-b8d0-456c-8313-67a706c0e098",
   "metadata": {},
   "source": [
    "2. After the CPU requests `a[0]`, what's the highest index of `a` available in L1 cache?"
   ]
  },
  {
   "cell_type": "markdown",
   "id": "dcd72f0c-7c88-42e8-8d0b-568fedf52475",
   "metadata": {},
   "source": [
    "The highest index available in the cache line is `i=7`, as the cache line is assumed to fit 8 floating point numbers."
   ]
  },
  {
   "cell_type": "markdown",
   "id": "3a0b2599-7b42-4493-9f84-07a0e76ef12f",
   "metadata": {},
   "source": [
    "3. When `i=3`, where is the CPU **first** able to find this value? (i.e., on what level does it stop looking through the memory hierarchy)"
   ]
  },
  {
   "cell_type": "markdown",
   "id": "06f5a359-9c2b-4759-8b1c-9d5ef6c3e761",
   "metadata": {},
   "source": [
    "It finds this value in the L1 cache because 3 is less than 7, so this index has been retrieved as part of the previous cache line."
   ]
  },
  {
   "cell_type": "markdown",
   "id": "195533a3-8c51-4587-812e-83021a29f251",
   "metadata": {},
   "source": [
    "4. Later, when `i=8`, where is the CPU **first** able to find this value? What action does this trigger?"
   ]
  },
  {
   "cell_type": "markdown",
   "id": "a1d96f6e-cc3e-401e-981f-a5fdc037b990",
   "metadata": {},
   "source": [
    "Since `a[8]` is outside the previous cache line, it finds this value in RAM. This triggers a new cache line fetch."
   ]
  },
  {
   "cell_type": "markdown",
   "id": "8ad3976b-7641-47c9-b8e5-951d80696876",
   "metadata": {},
   "source": [
    "---\n",
    "### Python Lists"
   ]
  },
  {
   "cell_type": "markdown",
   "id": "e7ebc7e2-27b2-45a3-a9d6-65c01ea6ba78",
   "metadata": {},
   "source": [
    "Now imagine we have created a list that is similar to `a`; that is, it hold 100 floating point numbers, all of which are `1.0`. We'll do so with a [list comprehension](https://www.w3schools.com/python/python_lists_comprehension.asp). We'll explore this technique for creating lists later in this workbook.\n",
    "\n",
    "```python\n",
    "l = [1.0 for i in range(100)]\n",
    "```\n",
    "\n",
    "Like arrays, lists are also stored as contiguous blocks of memory addresses; *however* each of these blocks is a *pointer*. The actual data we are using a list to store is kept at some other memory address that is referenced by the pointer.\n",
    "\n",
    "Thinking in terms of a table, the list looks like this:\n",
    "\n",
    "| `l[0]` | `l[1]` | `l[2]` | `l[3]` | ... |\n",
    "|--------|--------|--------|--------|-----|\n",
    "| `0x3e8` | `0x3e9` | `0x578` | `0x7d0`  | ... |\n",
    "\n",
    "Here, we're using **hexadecimal numbers** (i.e., numbers written in base 16) to refer to memory addresses. These numbers start with `0x` and use the letters `a` through `f` to represent digits 10 through 15. They are commonly used to represent memory addresses.\n",
    "\n",
    "The pointers above may or may not point to contiguous blocks of memory. For instance, `l[0]` and `l[1]` both reference coniguous addresses:\n",
    "\n",
    "| `0x3e8` | `0x3e9` |\n",
    "|---------|---------|\n",
    "| `1.0`   | `1.0`   |\n",
    "\n",
    "Other entries, such as `l[2]`, are not contiguous with any other data in the list.\n",
    "\n",
    "In order to access the data associated with `l[0]`, we must first fetch the pointer associated with `l[0]`, and then the data stored at the address indicated by the pointer.\n",
    "\n",
    "Some time after we created the list, we need to access it for calculations. At this time, the list is only present in RAM. We loop through the list as follows:\n",
    "\n",
    "```python\n",
    "for i in range(a.size):\n",
    "    l[i] *= 5\n",
    "```\n",
    "\n",
    "Be aware that cache lines are used **any** time we need to move data. The computer is *hoping* that data in the cache line will be used soon in the future, but this does not have to be true. Remember that for this example, we can assume the L1 cache holds several cache lines."
   ]
  },
  {
   "cell_type": "markdown",
   "id": "b7bd0392-b5ce-4894-b5ea-9619a2e2e755",
   "metadata": {},
   "source": [
    "---\n",
    "#### Exercises"
   ]
  },
  {
   "cell_type": "markdown",
   "id": "afefbab6-7e8b-4174-ab3d-3a5210a55a07",
   "metadata": {},
   "source": [
    "1. When the CPU tries to access the data associated with `l[0]`, how many cache lines are needed to transfer this data out of RAM? Why are these cache lines needed? **warning** some students interpreted this as \"cache lines overall\" in which case the answer is always 2. Clarify it's about what new cache line fetches it triggers."
   ]
  },
  {
   "cell_type": "markdown",
   "id": "ab8f8e1e-93b7-46da-9379-9c3d64b318b0",
   "metadata": {},
   "source": [
    "2 cache line fetches are needed: one to request the list values (pointers) and one to request the values starting at the memory location referenced by `l[0]`."
   ]
  },
  {
   "cell_type": "markdown",
   "id": "acd4c7e3-6640-4233-a210-3e47e413cfbd",
   "metadata": {},
   "source": [
    "2. When the CPU tries to access the data associated with `l[1]`, how many cache lines are needed to transfer this data out of RAM? What data (if any) is already present in the L1 cache?"
   ]
  },
  {
   "cell_type": "markdown",
   "id": "39b6b3ad-4d3e-4d33-b4ab-19752282ebcf",
   "metadata": {},
   "source": [
    "No cache lines are fetched, because the pointer associated with `l[1]` has been loaded as part of the `l[0]` cache line fetch, and since the memory address of `l[1]` happens to be within the cache line of the memory address of `l[0]`, we can access the value without a cache line fetch."
   ]
  },
  {
   "cell_type": "markdown",
   "id": "0772e2df-1cf7-4457-ba07-51129c709f3f",
   "metadata": {},
   "source": [
    "3. Next, when the CPU tries to access the data associated with `l[2]`, how many cache lines are needed to transfer this data out of RAM? What data (if any) is already present in the L1 cache?"
   ]
  },
  {
   "cell_type": "markdown",
   "id": "6e30e7b1-12cb-4ec0-b227-b741533717d6",
   "metadata": {},
   "source": [
    "We need one cache line fetch. The pointer value of `l[2]` has already been fetched, but that actual block of memory has not been fetched."
   ]
  },
  {
   "cell_type": "markdown",
   "id": "dbd18d3a-9c57-497e-9cf1-12c6b10240a6",
   "metadata": {},
   "source": [
    "---\n",
    "## Building Lists Efficiently\n",
    "\n",
    "In the pre-class reading, you learned about how `append` operations for lists are implemented under the hood. Memory allocation is generally very slow, so repeatedly appending to a list is generally not optimal. It's best to create a list with all desired elements already present. But how to do that without writing out every element by hand?\n",
    "\n",
    "Enter **list comprehensions**, a feature of Python that allows you to assemble lists (and dictionaries!) efficiently. The basic syntax of a comprehension is as follows:\n",
    "\n",
    "```python\n",
    "[ <operation> for <var> in <iterable object>]\n",
    "```\n",
    "\n",
    "Notice that the syntax mirrors a typical `for` loop, but stuffed inside square brackets (a dictionary comprehension would use curly braces). Any modification of data that we would typically put inside a `for` loop goes at the front of the comprehension.\n",
    "\n",
    "For example, the loop\n",
    "```python\n",
    "lst = []\n",
    "for i in range(50):\n",
    "    lst.append(i**2)\n",
    "```\n",
    "becomes\n",
    "```python\n",
    "lst = [i**2 for i in range(50)]\n",
    "```"
   ]
  },
  {
   "cell_type": "markdown",
   "id": "a0d6c112",
   "metadata": {},
   "source": [
    "---\n",
    "### Exercises"
   ]
  },
  {
   "cell_type": "markdown",
   "id": "603385a7",
   "metadata": {},
   "source": [
    "\n",
    "1. Time the following block of code to establish a baseline to compare performance improvements against.\n",
    "```python\n",
    "lst = []\n",
    "shift = 5\n",
    "for i in range(1000):\n",
    "    a = i + shift\n",
    "    lst.append( a**2/2 )\n",
    "```"
   ]
  },
  {
   "cell_type": "code",
   "execution_count": 3,
   "id": "9e16442d",
   "metadata": {},
   "outputs": [
    {
     "name": "stdout",
     "output_type": "stream",
     "text": [
      "137 μs ± 436 ns per loop (mean ± std. dev. of 7 runs, 10,000 loops each)\n"
     ]
    }
   ],
   "source": [
    "%%timeit\n",
    "lst = []\n",
    "shift = 5\n",
    "for i in range(1000):\n",
    "    a = i + shift\n",
    "    lst.append( a**2/2 )"
   ]
  },
  {
   "cell_type": "markdown",
   "id": "572dd295",
   "metadata": {},
   "source": [
    "2. Rewrite the above code to use a list comprehension. Don't forget to check the accuracy of your result."
   ]
  },
  {
   "cell_type": "code",
   "execution_count": 8,
   "id": "8cdcc061",
   "metadata": {},
   "outputs": [
    {
     "name": "stdout",
     "output_type": "stream",
     "text": [
      "122 μs ± 740 ns per loop (mean ± std. dev. of 7 runs, 10,000 loops each)\n"
     ]
    }
   ],
   "source": [
    "%%timeit\n",
    "lst2 = [(i+5)**2/2 for i in range(1000)]\n",
    "# checked for accuracy using print, works correctly"
   ]
  },
  {
   "cell_type": "markdown",
   "id": "6cda1414",
   "metadata": {},
   "source": [
    "3. Time the list comprehension you wrote above. How many times faster is this version of the code?"
   ]
  },
  {
   "cell_type": "markdown",
   "id": "8189cebb",
   "metadata": {},
   "source": [
    "My version is 1.12 times faster (122us vs. 137us)"
   ]
  },
  {
   "cell_type": "markdown",
   "id": "6f5a5796",
   "metadata": {},
   "source": [
    "4. You can include logic statements in a list (or dictionary) comprehension.\n",
    "For example, we can add an `if`-`else` statement as follows:\n",
    "`[ <operation> if <condition> else <alternative operation> for <var> in <iterable object> ]`. Use this approach to convert the following code into a list comprehension. Make sure to check the results.\n",
    "\n",
    "```python\n",
    "words = [\"bats\",\"dog\",\"bowls\",\"cars\",\"house\"]\n",
    "singles = []\n",
    "for w in words:\n",
    "    if w[-1] == 's':\n",
    "        singles.append(w[:-1]) # exclude final 's'\n",
    "    else:\n",
    "        singles.append(w)\n",
    "```"
   ]
  },
  {
   "cell_type": "code",
   "execution_count": 10,
   "id": "4fd2ff10",
   "metadata": {},
   "outputs": [
    {
     "name": "stdout",
     "output_type": "stream",
     "text": [
      "['bat', 'dog', 'bowl', 'car', 'house']\n"
     ]
    }
   ],
   "source": [
    "words = [\"bats\",\"dog\",\"bowls\",\"cars\",\"house\"]\n",
    "singles = [w[:-1] if w[-1] == 's' else w for w in words]\n",
    "print(singles)"
   ]
  },
  {
   "cell_type": "markdown",
   "id": "d54dcd40",
   "metadata": {},
   "source": [
    "5. Can you think of a situation in which you *wouldn't* be able to use a list comprehension? In such a case, you may have to resort to the repeated `append` method."
   ]
  },
  {
   "cell_type": "markdown",
   "id": "5882229a",
   "metadata": {},
   "source": [
    "If the creation of the list requires reference to a previous value in the list, comprehension would not work (or at least would be very complicated) because there is no way to self-reference the array that has not been created yet."
   ]
  },
  {
   "cell_type": "markdown",
   "id": "f1d29db9-7449-49e1-83da-44d3a6be2a5b",
   "metadata": {},
   "source": [
    "---\n",
    "## Vectorization "
   ]
  },
  {
   "cell_type": "markdown",
   "id": "155772ab-2f5c-4b14-98e5-915686b6452f",
   "metadata": {},
   "source": [
    "Sometimes, a CPU can apply the same instruction to multiple pieces of data at the same time in a processes called **vectorization.** Consider our NumPy example from before:\n",
    "\n",
    "```python\n",
    "a = np.ones(100)\n",
    "for i in range(a.size):\n",
    "    a[i] * 5\n",
    "```\n",
    "\n",
    "In its current form, the CPU can take advantage of cache lines, but it *cannot* employ vectorization. Simply put, we are relying too much on \"pure\" Python for vectorization to take place. Python's way of handling instructions does not make it clear to the CPU that vectorization is possible.\n",
    "\n",
    "That said, *NumPy* supports vectorization due to how its implemented (in C).\n",
    "We can rewrite our `for` loop to take advantage of this:\n",
    "\n",
    "```python\n",
    "a = np.ones(100)\n",
    "a * 5\n",
    "```"
   ]
  },
  {
   "cell_type": "markdown",
   "id": "dc68e526-876d-4419-8446-1baf8e501cc9",
   "metadata": {},
   "source": [
    "---\n",
    "### Exercises"
   ]
  },
  {
   "cell_type": "markdown",
   "id": "556c4683-27d5-4c2a-b91e-c9f30aa7bd1c",
   "metadata": {},
   "source": [
    "1. Time the `for` loop displayed above. Don't include array creation or module import in your timing measurement!"
   ]
  },
  {
   "cell_type": "code",
   "execution_count": 7,
   "id": "aefb7566-a78f-4bb6-8535-5a38ea8e7522",
   "metadata": {},
   "outputs": [],
   "source": [
    "import numpy as np"
   ]
  },
  {
   "cell_type": "code",
   "execution_count": 14,
   "id": "0719b8b8-fa45-4da5-ba88-f8bee9d2cb59",
   "metadata": {},
   "outputs": [
    {
     "name": "stdout",
     "output_type": "stream",
     "text": [
      "20.4 μs ± 361 ns per loop (mean ± std. dev. of 7 runs, 10,000 loops each)\n"
     ]
    }
   ],
   "source": [
    "%%timeit\n",
    "a = np.ones(100)\n",
    "for i in range(a.size):\n",
    "    a[i] * 5"
   ]
  },
  {
   "cell_type": "markdown",
   "id": "700b8134-7376-474c-b492-72d657f72899",
   "metadata": {},
   "source": [
    "2. Time the vectorized NumPy statement displayed above. How many times faster is this version?"
   ]
  },
  {
   "cell_type": "code",
   "execution_count": 15,
   "id": "df2cce33-35ec-44f5-b2bd-fdbf4d13b6b2",
   "metadata": {},
   "outputs": [
    {
     "name": "stdout",
     "output_type": "stream",
     "text": [
      "6.78 μs ± 49.5 ns per loop (mean ± std. dev. of 7 runs, 100,000 loops each)\n"
     ]
    }
   ],
   "source": [
    "%%timeit\n",
    "a = np.ones(100)\n",
    "a * 5"
   ]
  },
  {
   "cell_type": "markdown",
   "id": "2b4892ea",
   "metadata": {},
   "source": [
    "The vectorized version is 3 times faster (6.7us vs. 20.4us)"
   ]
  },
  {
   "cell_type": "markdown",
   "id": "c3a8b081-37ba-4c77-8be4-77450e88d13c",
   "metadata": {},
   "source": [
    "3. Time the following purely \"Pythonic\" code to establish a baseline to compare performance improvements against. Exclude the import statement from your timing.\n",
    "\n",
    "```python\n",
    "import math\n",
    "\n",
    "b = []\n",
    "for i in range(500):\n",
    "    b.append(i * math.sin(i))\n",
    "```"
   ]
  },
  {
   "cell_type": "code",
   "execution_count": 16,
   "id": "d2368342-4f10-4122-9d16-47b90de70165",
   "metadata": {},
   "outputs": [],
   "source": [
    "import math"
   ]
  },
  {
   "cell_type": "code",
   "execution_count": 17,
   "id": "e588289d-2075-44ae-9170-c9f9cfcf5592",
   "metadata": {},
   "outputs": [
    {
     "name": "stdout",
     "output_type": "stream",
     "text": [
      "68.2 μs ± 79.9 ns per loop (mean ± std. dev. of 7 runs, 10,000 loops each)\n"
     ]
    }
   ],
   "source": [
    "%%timeit\n",
    "b = []\n",
    "for i in range(500):\n",
    "    b.append(i * math.sin(i))"
   ]
  },
  {
   "cell_type": "markdown",
   "id": "a67581a1-969d-488f-a18b-d54921ca25a8",
   "metadata": {},
   "source": [
    "4. Rewrite the above code to be more \"NumPythonic\" in order to take advantage of vectorization. The NumPy [array creation](https://numpy.org/doc/1.25/reference/routines.array-creation.html#numerical-ranges) and [math](https://numpy.org/doc/1.25/reference/routines.math.html) documentation pages are good references. Make sure to test the results of your refactor!"
   ]
  },
  {
   "cell_type": "code",
   "execution_count": 19,
   "id": "263d829b",
   "metadata": {},
   "outputs": [
    {
     "name": "stdout",
     "output_type": "stream",
     "text": [
      "18.1 μs ± 66.4 ns per loop (mean ± std. dev. of 7 runs, 100,000 loops each)\n"
     ]
    }
   ],
   "source": [
    "%%timeit\n",
    "i = np.arange(500)\n",
    "b = i * np.sin(i)"
   ]
  },
  {
   "cell_type": "markdown",
   "id": "60e2ead9",
   "metadata": {},
   "source": [
    "5. Time the result of your refactor. What factor of speedup did you achieve? (i.e., what is the ratio between the old time and the new time?)"
   ]
  },
  {
   "cell_type": "markdown",
   "id": "be4be18c-2f0f-4ff1-b7fd-5d88f7c4be18",
   "metadata": {},
   "source": [
    "The result of the refactor is 3.8 times faster (18.1us vs. 68.2us)."
   ]
  },
  {
   "cell_type": "markdown",
   "id": "fd1c6bd4",
   "metadata": {},
   "source": [
    "6. Using what you've learned about caches and cache lines, explain why vectorization is possible and why it lets code run faster."
   ]
  },
  {
   "cell_type": "markdown",
   "id": "e4b09cc2",
   "metadata": {},
   "source": [
    "Vectorization is possible because lists require at most two cache line fetches per reference to a value, while NumPy array references require at most one cache line reference. In short, NumPy caches the values directly, instead of the addresses."
   ]
  },
  {
   "cell_type": "markdown",
   "id": "fca67e01-6a52-40cc-b760-397934443f7c",
   "metadata": {},
   "source": [
    "---\n",
    "## A Final Comparison\n",
    "\n",
    "In this workbook, we've explored different ways to work with lists and NumPy arrays. We've also learned details about how these objects work under the hood, and how their implementations can bring benefits and drawbacks.\n",
    "\n",
    "Now, we will directly compare these methods against each other. You will implement a vector norm (also called the \"dot product\") in several different ways:\n",
    "\n",
    "1. Looping over a list\n",
    "2. Using a list comprehension and the built-in `sum` function\n",
    "3. Looping over a NumPy array\n",
    "4. Using `np.sum()`\n",
    "5. Using `np.dot()`\n",
    "\n",
    "For example, for a vector with 1 million elements, item #4 would be implemented as\n",
    "```python\n",
    "v = np.arange(1e6)\n",
    "norm = np.sum(v * v)\n",
    "```\n",
    "\n",
    "Then, **time how long it takes to calculate `norm` with each implementation.** Make sure you test the same vector each time.\n",
    "\n",
    "You are encouraged to look up the documentation for any functions you are unfamiliar with."
   ]
  },
  {
   "cell_type": "markdown",
   "id": "0b0ce8d4",
   "metadata": {},
   "source": [
    "Below are the implementations:"
   ]
  },
  {
   "cell_type": "code",
   "execution_count": 13,
   "id": "bbc95a80-3f15-43bf-9f29-f918662f34d5",
   "metadata": {},
   "outputs": [
    {
     "name": "stdout",
     "output_type": "stream",
     "text": [
      "116 ms ± 1.01 ms per loop (mean ± std. dev. of 7 runs, 10 loops each)\n"
     ]
    }
   ],
   "source": [
    "%%timeit\n",
    "vec = []\n",
    "norm = 0\n",
    "for i in range(1000000):\n",
    "    vec.append(i)\n",
    "\n",
    "for v in vec:\n",
    "    norm += v * v"
   ]
  },
  {
   "cell_type": "code",
   "execution_count": 15,
   "id": "1bb5c3aa-2655-40bd-a5ca-b9a5c3c32e3d",
   "metadata": {},
   "outputs": [
    {
     "name": "stdout",
     "output_type": "stream",
     "text": [
      "79.3 ms ± 270 μs per loop (mean ± std. dev. of 7 runs, 10 loops each)\n"
     ]
    }
   ],
   "source": [
    "%%timeit\n",
    "norm = sum([v * v for v in range(1000000)])"
   ]
  },
  {
   "cell_type": "code",
   "execution_count": 17,
   "id": "5f1a66ca-d3fd-421b-8c9a-775489141b0c",
   "metadata": {},
   "outputs": [
    {
     "name": "stdout",
     "output_type": "stream",
     "text": [
      "167 ms ± 6.74 ms per loop (mean ± std. dev. of 7 runs, 10 loops each)\n"
     ]
    }
   ],
   "source": [
    "%%timeit\n",
    "vec = np.arange(1e6)\n",
    "norm = 0\n",
    "for v in vec:\n",
    "    norm += v * v"
   ]
  },
  {
   "cell_type": "code",
   "execution_count": 18,
   "id": "38c5f73c-9186-4640-a0fb-46f253b046fc",
   "metadata": {},
   "outputs": [
    {
     "name": "stdout",
     "output_type": "stream",
     "text": [
      "2.19 ms ± 23.6 μs per loop (mean ± std. dev. of 7 runs, 100 loops each)\n"
     ]
    }
   ],
   "source": [
    "%%timeit\n",
    "v = np.arange(1e6)\n",
    "norm = np.sum(v * v)"
   ]
  },
  {
   "cell_type": "code",
   "execution_count": 19,
   "id": "edfafd2e-d903-470e-a04e-10425c95c7c5",
   "metadata": {},
   "outputs": [
    {
     "name": "stdout",
     "output_type": "stream",
     "text": [
      "1.32 ms ± 18.9 μs per loop (mean ± std. dev. of 7 runs, 1,000 loops each)\n"
     ]
    }
   ],
   "source": [
    "%%timeit\n",
    "v = np.arange(1e6)\n",
    "norm = np.dot(v, v)"
   ]
  },
  {
   "cell_type": "markdown",
   "id": "de8b84a1",
   "metadata": {},
   "source": [
    "2. Using what you've learned this lesson, explain why you think the ranking turned out the way it is. What, if anything, can you not explain?"
   ]
  },
  {
   "cell_type": "markdown",
   "id": "527b3693",
   "metadata": {},
   "source": [
    "The list-based methods clearly take longer, because they again require more cache list fetches. There is a speedup using the `sum` function, likely because it makes use of values remaining in the cache and register and summing them all at once as opposed to alternating between value creation and summing. I cannot explain why the NumPy iteration takes longer than the list iteration. However, the NumPy vectorized multiplication inside of the `np.sum` function speeds up the process significantly by taking advantage of the cached values during multiplication and then again the easily-accessible cached values of the NumPy array during summation. Finally, the `np.dot` function uses a similar process, using cached summands and products together."
   ]
  },
  {
   "cell_type": "markdown",
   "id": "65e15b82",
   "metadata": {},
   "source": [
    "3. What have you taken away from this comparison?"
   ]
  },
  {
   "cell_type": "markdown",
   "id": "87a5fb39",
   "metadata": {},
   "source": [
    "I have a two key takeaways: first, use NumPy as much as possible for numerical solutions to problems, as the caching of values instead of address offers significant speedups. Second, try to perform as many operations as possible on the already-cached values before requiring the next cache list fetch, as this will speed up the process once again."
   ]
  },
  {
   "cell_type": "markdown",
   "id": "a4c3ffce",
   "metadata": {},
   "source": [
    "---\n",
    "## For Next Class\n",
    "\n",
    "* Make note of items you'd like to discuss further in the next class.\n",
    "* **If you're new to Pandas,** I suggest skimming the [Pandas tutorials](https://pandas.pydata.org/docs/getting_started/intro_tutorials/)."
   ]
  }
 ],
 "metadata": {
  "kernelspec": {
   "display_name": "Python 3 (ipykernel)",
   "language": "python",
   "name": "python3"
  },
  "language_info": {
   "codemirror_mode": {
    "name": "ipython",
    "version": 3
   },
   "file_extension": ".py",
   "mimetype": "text/x-python",
   "name": "python",
   "nbconvert_exporter": "python",
   "pygments_lexer": "ipython3",
   "version": "3.12.5"
  }
 },
 "nbformat": 4,
 "nbformat_minor": 5
}
